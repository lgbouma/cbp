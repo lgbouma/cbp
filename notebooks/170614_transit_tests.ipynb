{
 "cells": [
  {
   "cell_type": "code",
   "execution_count": 16,
   "metadata": {
    "collapsed": false
   },
   "outputs": [
    {
     "name": "stderr",
     "output_type": "stream",
     "text": [
      "/home/luke/Dropbox/miniconda3/envs/sci/lib/python3.5/site-packages/transit-0.3.0-py3.5-linux-x86_64.egg/transit/transit.py:516: RuntimeWarning: divide by zero encountered in log\n",
      "  params[-3] = np.log(self.central.q1)-np.log(1.0-self.central.q1)\n",
      "/home/luke/Dropbox/miniconda3/envs/sci/lib/python3.5/site-packages/transit-0.3.0-py3.5-linux-x86_64.egg/transit/transit.py:517: RuntimeWarning: divide by zero encountered in log\n",
      "  params[-2] = np.log(self.central.q2)-np.log(1.0-self.central.q2)\n"
     ]
    },
    {
     "data": {
      "text/plain": [
       "[<matplotlib.lines.Line2D at 0x7fd1c62fa400>]"
      ]
     },
     "execution_count": 16,
     "metadata": {},
     "output_type": "execute_result"
    },
    {
     "data": {
      "image/png": "[encoded data removed]",
      "text/plain": [
       "<matplotlib.figure.Figure at 0x7fd1c6448cf8>"
      ]
     },
     "metadata": {},
     "output_type": "display_data"
    }
   ],
   "source": [
    "import transit\n",
    "import numpy as np\n",
    "import matplotlib.pyplot as plt\n",
    "%matplotlib inline\n",
    "\n",
    "# Build the transiting system.\n",
    "s = transit.System(transit.Central(q1=0, q2=0))\n",
    "body = transit.Body(radius=0.1, period=365.25, t0=1, b=0, e=0)\n",
    "s.add_body(body)\n",
    "\n",
    "# Compute the light curve integrated over a Kepler long cadence\n",
    "# exposure time.\n",
    "exp_time_minutes = 29.423259\n",
    "exp_time_days = exp_time_minutes/(24.*60)\n",
    "\n",
    "t = np.arange(0, 2, exp_time_days)\n",
    "f = s.light_curve(t, texp=exp_time_days)\n",
    "\n",
    "# Plot the results\n",
    "plt.plot(t, (f-1) * 1e6, \".k\")"
   ]
  },
  {
   "cell_type": "code",
   "execution_count": 6,
   "metadata": {
    "collapsed": false
   },
   "outputs": [
    {
     "data": {
      "text/plain": [
       "1.1291666666666667"
      ]
     },
     "execution_count": 6,
     "metadata": {},
     "output_type": "execute_result"
    }
   ],
   "source": [
    "1626.0 / 86400.0 * 60"
   ]
  },
  {
   "cell_type": "code",
   "execution_count": 8,
   "metadata": {
    "collapsed": false
   },
   "outputs": [
    {
     "data": {
      "text/plain": [
       "1.25"
      ]
     },
     "execution_count": 8,
     "metadata": {},
     "output_type": "execute_result"
    }
   ],
   "source": [
    "30/24."
   ]
  },
  {
   "cell_type": "code",
   "execution_count": 13,
   "metadata": {
    "collapsed": false
   },
   "outputs": [
    {
     "data": {
      "text/plain": [
       "0.59453422164144765"
      ]
     },
     "execution_count": 13,
     "metadata": {},
     "output_type": "execute_result"
    }
   ],
   "source": [
    "body.duration"
   ]
  },
  {
   "cell_type": "markdown",
   "metadata": {},
   "source": [
    "Fine. So this produces a reasonable enough thing, but the point is that it's still trying too hard to be physical.\n",
    "\n",
    "Mandel & Agol is NOT a box-car model. The box-car model ignores ingress & egress (which a finite-size transit does not).\n",
    "\n",
    "It makes more sense to just define your own box car model, and for \"supersampling\" follow the batman example of what's happening over \"ingress\" and \"egress\" for the box-car model.\n",
    "\n",
    "```\n",
    "To do this, initialize a model with the supersample_factor and exp_time parameters specified:\n",
    "\n",
    "m = batman.TransitModel(params, t, supersample_factor = 7, exp_time = 0.001)\n",
    "This example will return the average value of the light curve calculated from 7 evenly spaced samples over the duration of each 0.001-day exposure. The exp_time parameter must have the same units as the array of observation times t.\n",
    "```"
   ]
  }
 ],
 "metadata": {
  "anaconda-cloud": {},
  "kernelspec": {
   "display_name": "Python [conda env:sci]",
   "language": "python",
   "name": "conda-env-sci-py"
  },
  "language_info": {
   "codemirror_mode": {
    "name": "ipython",
    "version": 3
   },
   "file_extension": ".py",
   "mimetype": "text/x-python",
   "name": "python",
   "nbconvert_exporter": "python",
   "pygments_lexer": "ipython3",
   "version": "3.5.2"
  }
 },
 "nbformat": 4,
 "nbformat_minor": 1
}
