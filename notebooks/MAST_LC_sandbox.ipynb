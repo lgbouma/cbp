{
 "cells": [
  {
   "cell_type": "code",
   "execution_count": 3,
   "metadata": {
    "collapsed": false
   },
   "outputs": [
    {
     "data": {
      "text/plain": [
       "'/home/luke/Dropbox/proj/cbp/notebooks'"
      ]
     },
     "execution_count": 3,
     "metadata": {},
     "output_type": "execute_result"
    }
   ],
   "source": [
    "pwd"
   ]
  },
  {
   "cell_type": "code",
   "execution_count": 5,
   "metadata": {
    "collapsed": false
   },
   "outputs": [
    {
     "name": "stdout",
     "output_type": "stream",
     "text": [
      "kplr001433410-2012277125453_llc.fits  kplr001572353-2010174085026_llc.fits\r\n",
      "kplr001433410-2013011073258_llc.fits  kplr001572353-2010265121752_llc.fits\r\n",
      "kplr001433980-2011271113734_llc.fits  kplr001572353-2010355172524_llc.fits\r\n",
      "kplr001433980-2012004120508_llc.fits  kplr001572353-2011073133259_llc.fits\r\n",
      "kplr001433980-2012088054726_llc.fits  kplr001572353-2011177032512_llc.fits\r\n",
      "kplr001433980-2012179063303_llc.fits  kplr001572353-2011271113734_llc.fits\r\n",
      "kplr001433980-2012277125453_llc.fits  kplr001572353-2012004120508_llc.fits\r\n",
      "kplr001433980-2013011073258_llc.fits  kplr001572353-2012088054726_llc.fits\r\n",
      "kplr001433980-2013098041711_llc.fits  kplr001572353-2012179063303_llc.fits\r\n",
      "kplr001433980-2013131215648_llc.fits  kplr001572353-2012277125453_llc.fits\r\n",
      "kplr001572353-2009166043257_llc.fits  kplr001572353-2013011073258_llc.fits\r\n",
      "kplr001572353-2009259160929_llc.fits  kplr001572353-2013098041711_llc.fits\r\n",
      "kplr001572353-2009350155506_llc.fits  kplr001572353-2013131215648_llc.fits\r\n",
      "kplr001572353-2010078095331_llc.fits  \u001b[0m\u001b[01;32mwget_morph_gt0.6_KEBC_KIC_IDs.sh\u001b[0m*\r\n"
     ]
    }
   ],
   "source": [
    "ls ../data/morph_gt0.6_kepler_MAST/trial"
   ]
  },
  {
   "cell_type": "code",
   "execution_count": 6,
   "metadata": {
    "collapsed": true
   },
   "outputs": [],
   "source": [
    "import os"
   ]
  },
  {
   "cell_type": "code",
   "execution_count": 9,
   "metadata": {
    "collapsed": true
   },
   "outputs": [],
   "source": [
    "datadir = '../data/morph_gt0.6_kepler_MAST/trial/'\n",
    "fs = [datadir+f for f in os.listdir(datadir) if f.endswith('.fits')]"
   ]
  },
  {
   "cell_type": "code",
   "execution_count": 10,
   "metadata": {
    "collapsed": false
   },
   "outputs": [
    {
     "data": {
      "text/plain": [
       "['../data/morph_gt0.6_kepler_MAST/trial/kplr001572353-2010174085026_llc.fits',\n",
       " '../data/morph_gt0.6_kepler_MAST/trial/kplr001433980-2012088054726_llc.fits',\n",
       " '../data/morph_gt0.6_kepler_MAST/trial/kplr001572353-2013098041711_llc.fits',\n",
       " '../data/morph_gt0.6_kepler_MAST/trial/kplr001433410-2012277125453_llc.fits',\n",
       " '../data/morph_gt0.6_kepler_MAST/trial/kplr001572353-2012277125453_llc.fits',\n",
       " '../data/morph_gt0.6_kepler_MAST/trial/kplr001433980-2013011073258_llc.fits',\n",
       " '../data/morph_gt0.6_kepler_MAST/trial/kplr001572353-2011271113734_llc.fits',\n",
       " '../data/morph_gt0.6_kepler_MAST/trial/kplr001572353-2010078095331_llc.fits',\n",
       " '../data/morph_gt0.6_kepler_MAST/trial/kplr001433980-2013098041711_llc.fits',\n",
       " '../data/morph_gt0.6_kepler_MAST/trial/kplr001572353-2010355172524_llc.fits',\n",
       " '../data/morph_gt0.6_kepler_MAST/trial/kplr001433980-2012004120508_llc.fits',\n",
       " '../data/morph_gt0.6_kepler_MAST/trial/kplr001433980-2012179063303_llc.fits',\n",
       " '../data/morph_gt0.6_kepler_MAST/trial/kplr001572353-2009350155506_llc.fits',\n",
       " '../data/morph_gt0.6_kepler_MAST/trial/kplr001433980-2013131215648_llc.fits',\n",
       " '../data/morph_gt0.6_kepler_MAST/trial/kplr001433980-2011271113734_llc.fits',\n",
       " '../data/morph_gt0.6_kepler_MAST/trial/kplr001572353-2012179063303_llc.fits',\n",
       " '../data/morph_gt0.6_kepler_MAST/trial/kplr001572353-2013011073258_llc.fits',\n",
       " '../data/morph_gt0.6_kepler_MAST/trial/kplr001572353-2011177032512_llc.fits',\n",
       " '../data/morph_gt0.6_kepler_MAST/trial/kplr001433980-2012277125453_llc.fits',\n",
       " '../data/morph_gt0.6_kepler_MAST/trial/kplr001572353-2013131215648_llc.fits',\n",
       " '../data/morph_gt0.6_kepler_MAST/trial/kplr001572353-2009166043257_llc.fits',\n",
       " '../data/morph_gt0.6_kepler_MAST/trial/kplr001572353-2012004120508_llc.fits',\n",
       " '../data/morph_gt0.6_kepler_MAST/trial/kplr001572353-2009259160929_llc.fits',\n",
       " '../data/morph_gt0.6_kepler_MAST/trial/kplr001572353-2010265121752_llc.fits',\n",
       " '../data/morph_gt0.6_kepler_MAST/trial/kplr001572353-2012088054726_llc.fits',\n",
       " '../data/morph_gt0.6_kepler_MAST/trial/kplr001572353-2011073133259_llc.fits',\n",
       " '../data/morph_gt0.6_kepler_MAST/trial/kplr001433410-2013011073258_llc.fits']"
      ]
     },
     "execution_count": 10,
     "metadata": {},
     "output_type": "execute_result"
    }
   ],
   "source": [
    "fs"
   ]
  },
  {
   "cell_type": "code",
   "execution_count": 11,
   "metadata": {
    "collapsed": true
   },
   "outputs": [],
   "source": [
    "from astropy.io import fits"
   ]
  },
  {
   "cell_type": "code",
   "execution_count": 12,
   "metadata": {
    "collapsed": true
   },
   "outputs": [],
   "source": [
    "hdulist = fits.open(fs[0])"
   ]
  },
  {
   "cell_type": "code",
   "execution_count": 13,
   "metadata": {
    "collapsed": false
   },
   "outputs": [
    {
     "data": {
      "text/plain": [
       "[<astropy.io.fits.hdu.image.PrimaryHDU at 0x7f6faa79cc18>,\n",
       " <astropy.io.fits.hdu.table.BinTableHDU at 0x7f6faa7a2e48>,\n",
       " <astropy.io.fits.hdu.image.ImageHDU at 0x7f6faa72ee80>]"
      ]
     },
     "execution_count": 13,
     "metadata": {},
     "output_type": "execute_result"
    }
   ],
   "source": [
    "hdulist"
   ]
  },
  {
   "cell_type": "code",
   "execution_count": 14,
   "metadata": {
    "collapsed": false
   },
   "outputs": [
    {
     "name": "stdout",
     "output_type": "stream",
     "text": [
      "Filename: ../data/morph_gt0.6_kepler_MAST/trial/kplr001572353-2010174085026_llc.fits\n",
      "No.    Name         Type      Cards   Dimensions   Format\n",
      "0    PRIMARY     PrimaryHDU      58   ()              \n",
      "1    LIGHTCURVE  BinTableHDU    155   4634R x 20C   [D, E, J, E, E, E, E, E, E, J, D, E, D, E, D, E, D, E, E, E]   \n",
      "2    APERTURE    ImageHDU        48   (6, 4)       int32   \n"
     ]
    }
   ],
   "source": [
    "hdulist.info()"
   ]
  },
  {
   "cell_type": "code",
   "execution_count": 17,
   "metadata": {
    "collapsed": false
   },
   "outputs": [
    {
     "data": {
      "text/plain": [
       "SIMPLE  =                    T / conforms to FITS standards                     \n",
       "BITPIX  =                    8 / array data type                                \n",
       "NAXIS   =                    0 / number of array dimensions                     \n",
       "EXTEND  =                    T / file contains extensions                       \n",
       "NEXTEND =                    2 / number of standard extensions                  \n",
       "EXTNAME = 'PRIMARY '           / name of extension                              \n",
       "EXTVER  =                    1 / extension version number (not format version)  \n",
       "ORIGIN  = 'NASA/Ames'          / institution responsible for creating this file \n",
       "DATE    = '2015-09-17'         / file creation date.                            \n",
       "CREATOR = '884910 FluxExporter2PipelineModule' / pipeline job and program used t\n",
       "PROCVER = 'svn+ssh://murzim/repo/soc/tags/release/9.3.23 r60353' / SW version   \n",
       "FILEVER = '6.1     '           / file format version                            \n",
       "TIMVERSN= 'OGIP/93-003'        / OGIP memo number for file format               \n",
       "TELESCOP= 'Kepler  '           / telescope                                      \n",
       "INSTRUME= 'Kepler Photometer'  / detector type                                  \n",
       "OBJECT  = 'KIC 1572353'        / string version of target id                    \n",
       "KEPLERID=              1572353 / unique Kepler target identifier                \n",
       "CHANNEL =                   32 / CCD channel                                    \n",
       "SKYGROUP=                   84 / roll-independent location of channel           \n",
       "MODULE  =                   10 / CCD module                                     \n",
       "OUTPUT  =                    4 / CCD output                                     \n",
       "QUARTER =                    5 / Observing quarter                              \n",
       "SEASON  =                    3 / mission season during which data was collected \n",
       "DATA_REL=                   25 / data release version number                    \n",
       "OBSMODE = 'long cadence'       / observing mode                                 \n",
       "MISSION = 'Kepler  '           / Mission name                                   \n",
       "TTABLEID=                   32 / target table id                                \n",
       "RADESYS = 'ICRS    '           / reference frame of celestial coordinates       \n",
       "RA_OBJ  =           291.188589 / [deg] right ascension                          \n",
       "DEC_OBJ =            37.161630 / [deg] declination                              \n",
       "EQUINOX =               2000.0 / equinox of celestial coordinate system         \n",
       "PMRA    =              -0.0137 / [arcsec/yr] RA proper motion                   \n",
       "PMDEC   =              -0.0008 / [arcsec/yr] Dec proper motion                  \n",
       "PMTOTAL =               0.0137 / [arcsec/yr] total proper motion                \n",
       "PARALLAX=                      / [arcsec] parallax                              \n",
       "GLON    =            69.748518 / [deg] galactic longitude                       \n",
       "GLAT    =             9.944906 / [deg] galactic latitude                        \n",
       "GMAG    =               16.179 / [mag] SDSS g band magnitude                    \n",
       "RMAG    =               15.195 / [mag] SDSS r band magnitude                    \n",
       "IMAG    =               14.829 / [mag] SDSS i band magnitude                    \n",
       "ZMAG    =               14.603 / [mag] SDSS z band magnitude                    \n",
       "D51MAG  =               16.002 / [mag] D51 magnitude,                           \n",
       "JMAG    =               13.586 / [mag] J band magnitude from 2MASS              \n",
       "HMAG    =               12.961 / [mag] H band magnitude from 2MASS              \n",
       "KMAG    =               12.835 / [mag] K band magnitude from 2MASS              \n",
       "KEPMAG  =               15.234 / [mag] Kepler magnitude (Kp)                    \n",
       "GRCOLOR =                0.984 / [mag] (g-r) color, SDSS bands                  \n",
       "JKCOLOR =                0.751 / [mag] (J-K) color, 2MASS bands                 \n",
       "GKCOLOR =                3.344 / [mag] (g-K) color, SDSS g - 2MASS K            \n",
       "TEFF    =                 4629 / [K] Effective temperature                      \n",
       "LOGG    =                4.607 / [cm/s2] log10 surface gravity                  \n",
       "FEH     =               -0.260 / [log10([Fe/H])]  metallicity                   \n",
       "EBMINUSV=                0.076 / [mag] E(B-V) reddening                         \n",
       "AV      =                0.237 / [mag] A_v extinction                           \n",
       "RADIUS  =                0.665 / [solar radii] stellar radius                   \n",
       "TMINDEX =            268096799 / unique 2MASS catalog ID                        \n",
       "SCPID   =                      / unique SCP processing ID                       \n",
       "CHECKSUM= '39EdA6Bd36BdA6Bd'   / HDU checksum updated 2015-09-17T06:32:46Z      "
      ]
     },
     "execution_count": 17,
     "metadata": {},
     "output_type": "execute_result"
    }
   ],
   "source": [
    "hdulist[0].header"
   ]
  },
  {
   "cell_type": "code",
   "execution_count": 18,
   "metadata": {
    "collapsed": true
   },
   "outputs": [],
   "source": [
    "hdu0 = hdulist[0]"
   ]
  },
  {
   "cell_type": "code",
   "execution_count": 20,
   "metadata": {
    "collapsed": false
   },
   "outputs": [],
   "source": [
    "hdu0.data"
   ]
  },
  {
   "cell_type": "code",
   "execution_count": 21,
   "metadata": {
    "collapsed": false
   },
   "outputs": [
    {
     "data": {
      "text/plain": [
       "FITS_rec([ (443.49000926016743, -0.0011456598, 16373, 8958.2842, 3.9977093, 1476.2379, 0.3358863, nan, nan, 16, nan, nan, nan, nan, 389.96777503177589, 0.00072872202, 472.57776304921947, 0.00058850035, -0.047195178, -0.016074656),\n",
       "       (443.51044379219093, -0.0011448278, 16374, 9444.2422, 4.0397654, 1476.438, 0.33564094, 11876.914, 5.1215901, 16, nan, nan, nan, nan, 389.96938715521992, 0.00069448585, 472.57806335541682, 0.00056112534, -0.046249177, -0.015588881),\n",
       "       (443.53087812432932, -0.0011439957, 16375, 9841.9043, 4.0707231, 1476.5024, 0.33577418, 12383.103, 5.1601319, 16, nan, nan, nan, nan, 389.97000551629918, 0.00066857837, 472.57689896117523, 0.00054057519, -0.046553519, -0.015223073),\n",
       "       ...,\n",
       "       (538.1223714841326, 0.0032085641, 21004, 9011.2012, 3.9636915, 1081.976, 0.32868135, 11287.124, 5.0273914, 16, nan, nan, nan, nan, 389.90260836429565, 0.00070434052, 472.42023204406001, 0.00057382282, -0.096619748, -0.18189177),\n",
       "       (538.14280574071017, 0.0032092207, 21005, nan, nan, nan, nan, nan, nan, 32816, nan, nan, nan, nan, nan, nan, nan, nan, nan, nan),\n",
       "       (538.16323989706143, 0.0032098771, 21006, 9042.0254, 3.9662704, 1083.0326, 0.32970718, 11687.273, 5.0309329, 16, nan, nan, nan, nan, 389.90140600992379, 0.00070272939, 472.41884731049601, 0.00057255325, -0.097221099, -0.18248181)], \n",
       "      dtype=(numpy.record, [('TIME', '>f8'), ('TIMECORR', '>f4'), ('CADENCENO', '>i4'), ('SAP_FLUX', '>f4'), ('SAP_FLUX_ERR', '>f4'), ('SAP_BKG', '>f4'), ('SAP_BKG_ERR', '>f4'), ('PDCSAP_FLUX', '>f4'), ('PDCSAP_FLUX_ERR', '>f4'), ('SAP_QUALITY', '>i4'), ('PSF_CENTR1', '>f8'), ('PSF_CENTR1_ERR', '>f4'), ('PSF_CENTR2', '>f8'), ('PSF_CENTR2_ERR', '>f4'), ('MOM_CENTR1', '>f8'), ('MOM_CENTR1_ERR', '>f4'), ('MOM_CENTR2', '>f8'), ('MOM_CENTR2_ERR', '>f4'), ('POS_CORR1', '>f4'), ('POS_CORR2', '>f4')]))"
      ]
     },
     "execution_count": 21,
     "metadata": {},
     "output_type": "execute_result"
    }
   ],
   "source": [
    "hdulist[1].data"
   ]
  },
  {
   "cell_type": "markdown",
   "metadata": {},
   "source": [
    "Finally. This is the right stuff to be working with. `SAP_FLUX` is the famed simple aperture. `PDCSAP_FLUX` is... not sure. What about the different times??"
   ]
  },
  {
   "cell_type": "code",
   "execution_count": null,
   "metadata": {
    "collapsed": true
   },
   "outputs": [],
   "source": []
  }
 ],
 "metadata": {
  "anaconda-cloud": {},
  "kernelspec": {
   "display_name": "Python [conda env:sci]",
   "language": "python",
   "name": "conda-env-sci-py"
  },
  "language_info": {
   "codemirror_mode": {
    "name": "ipython",
    "version": 3
   },
   "file_extension": ".py",
   "mimetype": "text/x-python",
   "name": "python",
   "nbconvert_exporter": "python",
   "pygments_lexer": "ipython3",
   "version": "3.5.2"
  }
 },
 "nbformat": 4,
 "nbformat_minor": 1
}
