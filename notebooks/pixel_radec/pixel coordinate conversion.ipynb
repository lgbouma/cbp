{
 "cells": [
  {
   "cell_type": "markdown",
   "metadata": {},
   "source": [
    "This idea of this code:\n",
    "1. using the target pixel file for a candidate, get the 'APERTURE' extension (contents: `.data` is a 9x9 image of the aperture, showing which pixels were collected, and then which were used for SAP. header: WCS info, enabling this WCS transformation).\n",
    "2. load the aperture extension directly into an instance of astropy's WCS module.\n",
    "3. use `kepio.readMaskDefinition` to get row/col pixel indices corresponding the aperture mask. (this applies the definitions of the cryptic CRVAL, CRPIX, CDELT parameters in the APERTURE extension's header).\n",
    "4. the astropy WCS module has a method that lets you go from Kepler row/col to RA/dec (given the cryptic CRVAL, CRPIX, CDELT, etc parameters, and the rotation matrix elements)."
   ]
  },
  {
   "cell_type": "code",
   "execution_count": 1,
   "metadata": {
    "collapsed": false
   },
   "outputs": [],
   "source": [
    "import numpy as np\n",
    "import matplotlib.pyplot as plt\n",
    "import kepio ## from PyKE package\n",
    "from astropy.io import fits\n",
    "from astropy import wcs\n",
    "%matplotlib inline"
   ]
  },
  {
   "cell_type": "code",
   "execution_count": 2,
   "metadata": {
    "collapsed": false
   },
   "outputs": [],
   "source": [
    "#reading targ file\n",
    "infile=\"kplr012254688-2009131105131_lpd-targ.fits\" \n",
    "hdulist=fits.open(infile)\n",
    "w=wcs.WCS(hdulist[2].header)"
   ]
  },
  {
   "cell_type": "code",
   "execution_count": 3,
   "metadata": {
    "collapsed": false
   },
   "outputs": [
    {
     "data": {
      "text/plain": [
       "WCS Keywords\n",
       "\n",
       "Number of WCS axes: 2\n",
       "CTYPE : 'RA---TAN'  'DEC--TAN'  \n",
       "CRVAL : 289.37380949999999  50.934339999999999  \n",
       "CRPIX : 6.0664886661902528  5.0202136100497228  \n",
       "PC1_1 PC1_2  : -0.82895096620555264  -0.55826342122001049  \n",
       "PC2_1 PC2_2  : 0.558909508494703  -0.8299420516807211  \n",
       "CDELT : -0.0011046341119679999  0.0011046341119678421  \n",
       "NAXIS : 9  9"
      ]
     },
     "execution_count": 3,
     "metadata": {},
     "output_type": "execute_result"
    }
   ],
   "source": [
    "w"
   ]
  },
  {
   "cell_type": "code",
   "execution_count": 4,
   "metadata": {
    "collapsed": false
   },
   "outputs": [
    {
     "name": "stdout",
     "output_type": "stream",
     "text": [
      "WCS objects perform standard WCS transformations, and correct for\n",
      "    `SIP`_ and `distortion paper`_ table-lookup transformations, based\n",
      "    on the WCS keywords and supplementary data read from a FITS file.\n",
      "\n",
      "    Parameters\n",
      "    ----------\n",
      "    header : astropy.io.fits header object, Primary HDU, Image HDU, string, dict-like, or None, optional\n",
      "        If *header* is not provided or None, the object will be\n",
      "        initialized to default values.\n",
      "\n",
      "    fobj : An astropy.io.fits file (hdulist) object, optional\n",
      "        It is needed when header keywords point to a `distortion\n",
      "        paper`_ lookup table stored in a different extension.\n",
      "\n",
      "    key : str, optional\n",
      "        The name of a particular WCS transform to use.  This may be\n",
      "        either ``' '`` or ``'A'``-``'Z'`` and corresponds to the\n",
      "        ``\"a\"`` part of the ``CTYPEia`` cards.  *key* may only be\n",
      "        provided if *header* is also provided.\n",
      "\n",
      "    minerr : float, optional\n",
      "        The minimum value a distortion correction must have in order\n",
      "        to be applied. If the value of ``CQERRja`` is smaller than\n",
      "        *minerr*, the corresponding distortion is not applied.\n",
      "\n",
      "    relax : bool or int, optional\n",
      "        Degree of permissiveness:\n",
      "\n",
      "        - `True` (default): Admit all recognized informal extensions\n",
      "          of the WCS standard.\n",
      "\n",
      "        - `False`: Recognize only FITS keywords defined by the\n",
      "          published WCS standard.\n",
      "\n",
      "        - `int`: a bit field selecting specific extensions to accept.\n",
      "          See :ref:`relaxread` for details.\n",
      "\n",
      "    naxis : int or sequence, optional\n",
      "        Extracts specific coordinate axes using\n",
      "        :meth:`~astropy.wcs.Wcsprm.sub`.  If a header is provided, and\n",
      "        *naxis* is not ``None``, *naxis* will be passed to\n",
      "        :meth:`~astropy.wcs.Wcsprm.sub` in order to select specific\n",
      "        axes from the header.  See :meth:`~astropy.wcs.Wcsprm.sub` for\n",
      "        more details about this parameter.\n",
      "\n",
      "    keysel : sequence of flags, optional\n",
      "        A sequence of flags used to select the keyword types\n",
      "        considered by wcslib.  When ``None``, only the standard image\n",
      "        header keywords are considered (and the underlying wcspih() C\n",
      "        function is called).  To use binary table image array or pixel\n",
      "        list keywords, *keysel* must be set.\n",
      "\n",
      "        Each element in the list should be one of the following\n",
      "        strings:\n",
      "\n",
      "        - 'image': Image header keywords\n",
      "\n",
      "        - 'binary': Binary table image array keywords\n",
      "\n",
      "        - 'pixel': Pixel list keywords\n",
      "\n",
      "        Keywords such as ``EQUIna`` or ``RFRQna`` that are common to\n",
      "        binary table image arrays and pixel lists (including\n",
      "        ``WCSNna`` and ``TWCSna``) are selected by both 'binary' and\n",
      "        'pixel'.\n",
      "\n",
      "    colsel : sequence of int, optional\n",
      "        A sequence of table column numbers used to restrict the WCS\n",
      "        transformations considered to only those pertaining to the\n",
      "        specified columns.  If `None`, there is no restriction.\n",
      "\n",
      "    fix : bool, optional\n",
      "        When `True` (default), call `~astropy.wcs.Wcsprm.fix` on\n",
      "        the resulting object to fix any non-standard uses in the\n",
      "        header.  `FITSFixedWarning` Warnings will be emitted if any\n",
      "        changes were made.\n",
      "\n",
      "    translate_units : str, optional\n",
      "        Specify which potentially unsafe translations of non-standard\n",
      "        unit strings to perform.  By default, performs none.  See\n",
      "        `WCS.fix` for more information about this parameter.  Only\n",
      "        effective when ``fix`` is `True`.\n",
      "\n",
      "    Raises\n",
      "    ------\n",
      "    MemoryError\n",
      "         Memory allocation failed.\n",
      "\n",
      "    ValueError\n",
      "         Invalid key.\n",
      "\n",
      "    KeyError\n",
      "         Key not found in FITS header.\n",
      "\n",
      "    AssertionError\n",
      "         Lookup table distortion present in the header but *fobj* was\n",
      "         not provided.\n",
      "\n",
      "    Notes\n",
      "    -----\n",
      "\n",
      "    1. astropy.wcs supports arbitrary *n* dimensions for the core WCS\n",
      "       (the transformations handled by WCSLIB).  However, the\n",
      "       `distortion paper`_ lookup table and `SIP`_ distortions must be\n",
      "       two dimensional.  Therefore, if you try to create a WCS object\n",
      "       where the core WCS has a different number of dimensions than 2\n",
      "       and that object also contains a `distortion paper`_ lookup\n",
      "       table or `SIP`_ distortion, a `ValueError`\n",
      "       exception will be raised.  To avoid this, consider using the\n",
      "       *naxis* kwarg to select two dimensions from the core WCS.\n",
      "\n",
      "    2. The number of coordinate axes in the transformation is not\n",
      "       determined directly from the ``NAXIS`` keyword but instead from\n",
      "       the highest of:\n",
      "\n",
      "           - ``NAXIS`` keyword\n",
      "\n",
      "           - ``WCSAXESa`` keyword\n",
      "\n",
      "           - The highest axis number in any parameterized WCS keyword.\n",
      "             The keyvalue, as well as the keyword, must be\n",
      "             syntactically valid otherwise it will not be considered.\n",
      "\n",
      "       If none of these keyword types is present, i.e. if the header\n",
      "       only contains auxiliary WCS keywords for a particular\n",
      "       coordinate representation, then no coordinate description is\n",
      "       constructed for it.\n",
      "\n",
      "       The number of axes, which is set as the ``naxis`` member, may\n",
      "       differ for different coordinate representations of the same\n",
      "       image.\n",
      "\n",
      "    3. When the header includes duplicate keywords, in most cases the\n",
      "       last encountered is used.\n",
      "\n",
      "    4. `~astropy.wcs.Wcsprm.set` is called immediately after\n",
      "       construction, so any invalid keywords or transformations will\n",
      "       be raised by the constructor, not when subsequently calling a\n",
      "       transformation method.\n",
      "\n",
      "    \n"
     ]
    }
   ],
   "source": [
    "print(w.__doc__)"
   ]
  },
  {
   "cell_type": "code",
   "execution_count": 5,
   "metadata": {
    "collapsed": false
   },
   "outputs": [],
   "source": [
    "logfile=\"temp.log\";verbose=True\n",
    "maskimg, pixcoord1, pixcoord2, status = kepio.readMaskDefinition(infile,logfile,verbose)"
   ]
  },
  {
   "cell_type": "code",
   "execution_count": 6,
   "metadata": {
    "collapsed": false
   },
   "outputs": [
    {
     "data": {
      "text/plain": [
       "array([[0, 1, 1, 1, 1, 1, 1, 1, 1],\n",
       "       [0, 1, 1, 1, 1, 1, 1, 1, 1],\n",
       "       [0, 1, 1, 1, 1, 3, 3, 1, 1],\n",
       "       [1, 1, 1, 1, 3, 3, 3, 3, 1],\n",
       "       [1, 1, 1, 1, 3, 3, 3, 1, 1],\n",
       "       [1, 1, 1, 1, 3, 3, 3, 1, 1],\n",
       "       [1, 1, 1, 1, 3, 3, 1, 1, 1],\n",
       "       [1, 1, 1, 1, 1, 1, 1, 1, 0],\n",
       "       [0, 1, 1, 1, 1, 1, 1, 1, 0]], dtype=int32)"
      ]
     },
     "execution_count": 6,
     "metadata": {},
     "output_type": "execute_result"
    }
   ],
   "source": [
    "maskimg"
   ]
  },
  {
   "cell_type": "code",
   "execution_count": 7,
   "metadata": {
    "collapsed": false
   },
   "outputs": [
    {
     "data": {
      "text/plain": [
       "array([[ 1080.,  1080.,  1080.,  1080.,  1080.,  1080.,  1080.,  1080.,\n",
       "         1080.],\n",
       "       [ 1081.,  1081.,  1081.,  1081.,  1081.,  1081.,  1081.,  1081.,\n",
       "         1081.],\n",
       "       [ 1082.,  1082.,  1082.,  1082.,  1082.,  1082.,  1082.,  1082.,\n",
       "         1082.],\n",
       "       [ 1083.,  1083.,  1083.,  1083.,  1083.,  1083.,  1083.,  1083.,\n",
       "         1083.],\n",
       "       [ 1084.,  1084.,  1084.,  1084.,  1084.,  1084.,  1084.,  1084.,\n",
       "         1084.],\n",
       "       [ 1085.,  1085.,  1085.,  1085.,  1085.,  1085.,  1085.,  1085.,\n",
       "         1085.],\n",
       "       [ 1086.,  1086.,  1086.,  1086.,  1086.,  1086.,  1086.,  1086.,\n",
       "         1086.],\n",
       "       [ 1087.,  1087.,  1087.,  1087.,  1087.,  1087.,  1087.,  1087.,\n",
       "         1087.],\n",
       "       [ 1088.,  1088.,  1088.,  1088.,  1088.,  1088.,  1088.,  1088.,\n",
       "         1088.]])"
      ]
     },
     "execution_count": 7,
     "metadata": {},
     "output_type": "execute_result"
    }
   ],
   "source": [
    "pixcoord1"
   ]
  },
  {
   "cell_type": "code",
   "execution_count": 8,
   "metadata": {
    "collapsed": false
   },
   "outputs": [
    {
     "data": {
      "text/plain": [
       "array([[ 958.,  959.,  960.,  961.,  962.,  963.,  964.,  965.,  966.],\n",
       "       [ 958.,  959.,  960.,  961.,  962.,  963.,  964.,  965.,  966.],\n",
       "       [ 958.,  959.,  960.,  961.,  962.,  963.,  964.,  965.,  966.],\n",
       "       [ 958.,  959.,  960.,  961.,  962.,  963.,  964.,  965.,  966.],\n",
       "       [ 958.,  959.,  960.,  961.,  962.,  963.,  964.,  965.,  966.],\n",
       "       [ 958.,  959.,  960.,  961.,  962.,  963.,  964.,  965.,  966.],\n",
       "       [ 958.,  959.,  960.,  961.,  962.,  963.,  964.,  965.,  966.],\n",
       "       [ 958.,  959.,  960.,  961.,  962.,  963.,  964.,  965.,  966.],\n",
       "       [ 958.,  959.,  960.,  961.,  962.,  963.,  964.,  965.,  966.]])"
      ]
     },
     "execution_count": 8,
     "metadata": {},
     "output_type": "execute_result"
    }
   ],
   "source": [
    "pixcoord2"
   ]
  },
  {
   "cell_type": "code",
   "execution_count": 9,
   "metadata": {
    "collapsed": false
   },
   "outputs": [
    {
     "data": {
      "text/plain": [
       "<bound method WCS.wcs_pix2world of WCS Keywords\n",
       "\n",
       "Number of WCS axes: 2\n",
       "CTYPE : 'RA---TAN'  'DEC--TAN'  \n",
       "CRVAL : 289.37380949999999  50.934339999999999  \n",
       "CRPIX : 6.0664886661902528  5.0202136100497228  \n",
       "PC1_1 PC1_2  : -0.82895096620555264  -0.55826342122001049  \n",
       "PC2_1 PC2_2  : 0.558909508494703  -0.8299420516807211  \n",
       "CDELT : -0.0011046341119679999  0.0011046341119678421  \n",
       "NAXIS : 9  9>"
      ]
     },
     "execution_count": 9,
     "metadata": {},
     "output_type": "execute_result"
    }
   ],
   "source": [
    "w.wcs_pix2world"
   ]
  },
  {
   "cell_type": "code",
   "execution_count": 10,
   "metadata": {
    "collapsed": false
   },
   "outputs": [],
   "source": [
    "pixcoord=np.array([pixcoord1,pixcoord2]).transpose()\n",
    "wcoord=[]\n",
    "for i in range(0,pixcoord.shape[0]): \n",
    "    wc=w.wcs_pix2world(pixcoord[i],1)\n",
    "    wcoord.append(wc)\n",
    "wcoord=np.array(wcoord) #RA DEC coordinate"
   ]
  },
  {
   "cell_type": "code",
   "execution_count": 11,
   "metadata": {
    "collapsed": false
   },
   "outputs": [
    {
     "data": {
      "text/plain": [
       "array([[ 1080.,   958.],\n",
       "       [ 1081.,   958.],\n",
       "       [ 1082.,   958.],\n",
       "       [ 1083.,   958.],\n",
       "       [ 1084.,   958.],\n",
       "       [ 1085.,   958.],\n",
       "       [ 1086.,   958.],\n",
       "       [ 1087.,   958.],\n",
       "       [ 1088.,   958.]])"
      ]
     },
     "execution_count": 11,
     "metadata": {},
     "output_type": "execute_result"
    }
   ],
   "source": [
    "pixcoord[0]"
   ]
  },
  {
   "cell_type": "code",
   "execution_count": 12,
   "metadata": {
    "collapsed": false
   },
   "outputs": [
    {
     "data": {
      "text/plain": [
       "(9, 9, 2)"
      ]
     },
     "execution_count": 12,
     "metadata": {},
     "output_type": "execute_result"
    }
   ],
   "source": [
    "pixcoord.shape"
   ]
  },
  {
   "cell_type": "code",
   "execution_count": 13,
   "metadata": {
    "collapsed": false
   },
   "outputs": [
    {
     "data": {
      "text/plain": [
       "array([ 1080.,   958.])"
      ]
     },
     "execution_count": 13,
     "metadata": {},
     "output_type": "execute_result"
    }
   ],
   "source": [
    "pixcoord[0,0,:]"
   ]
  },
  {
   "cell_type": "code",
   "execution_count": 14,
   "metadata": {
    "collapsed": false
   },
   "outputs": [
    {
     "data": {
      "text/plain": [
       "(9, 9, 2)"
      ]
     },
     "execution_count": 14,
     "metadata": {},
     "output_type": "execute_result"
    }
   ],
   "source": [
    "wcoord.shape # these are now ur WCS (RA/dec coordinates!). Extra dimension is row/col (I might've stored these as a tuple for each element in 9x9, but whatever)."
   ]
  },
  {
   "cell_type": "code",
   "execution_count": 15,
   "metadata": {
    "collapsed": false
   },
   "outputs": [],
   "source": [
    "nx=wcoord.shape[0]\n",
    "ny=wcoord.shape[1]"
   ]
  },
  {
   "cell_type": "code",
   "execution_count": 16,
   "metadata": {
    "collapsed": false
   },
   "outputs": [
    {
     "name": "stdout",
     "output_type": "stream",
     "text": [
      "(9, 9)\n"
     ]
    }
   ],
   "source": [
    "print(nx,ny)"
   ]
  },
  {
   "cell_type": "code",
   "execution_count": 17,
   "metadata": {
    "collapsed": false
   },
   "outputs": [
    {
     "data": {
      "image/png": "[encoded data removed]",
      "text/plain": [
       "<matplotlib.figure.Figure at 0x7f3de366fed0>"
      ]
     },
     "metadata": {},
     "output_type": "display_data"
    }
   ],
   "source": [
    "#showing the RA-DEC coordinate of pixels \n",
    "f, ax = plt.subplots(figsize=(5,5))\n",
    "\n",
    "RA = wcoord.reshape(nx*ny,2).transpose()[0]\n",
    "dec = wcoord.reshape(nx*ny,2).transpose()[1]\n",
    "ax.plot(RA, dec, \"*\")\n",
    "ax.set_xlabel(\"RA\")\n",
    "ax.set_ylabel(\"DEC\")\n",
    "plt.show()"
   ]
  },
  {
   "cell_type": "code",
   "execution_count": null,
   "metadata": {
    "collapsed": true
   },
   "outputs": [],
   "source": []
  }
 ],
 "metadata": {
  "anaconda-cloud": {},
  "kernelspec": {
   "display_name": "Python [conda env:sci27]",
   "language": "python",
   "name": "conda-env-sci27-py"
  },
  "language_info": {
   "codemirror_mode": {
    "name": "ipython",
    "version": 2
   },
   "file_extension": ".py",
   "mimetype": "text/x-python",
   "name": "python",
   "nbconvert_exporter": "python",
   "pygments_lexer": "ipython2",
   "version": "2.7.13"
  }
 },
 "nbformat": 4,
 "nbformat_minor": 0
}
