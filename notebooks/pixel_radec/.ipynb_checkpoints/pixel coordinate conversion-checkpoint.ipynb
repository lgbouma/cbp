{
 "cells": [
  {
   "cell_type": "code",
   "execution_count": 1,
   "metadata": {
    "collapsed": false
   },
   "outputs": [
    {
     "name": "stderr",
     "output_type": "stream",
     "text": [
      "/Library/Python/2.7/site-packages/IPython/kernel/__init__.py:13: ShimWarning: The `IPython.kernel` package has been deprecated. You should import from ipykernel or jupyter_client instead.\n",
      "  \"You should import from ipykernel or jupyter_client instead.\", ShimWarning)\n"
     ]
    }
   ],
   "source": [
    "import numpy as np\n",
    "import matplotlib\n",
    "import matplotlib.pyplot as plt\n",
    "import pylab\n",
    "\n",
    "import kepio ## from PyKE package\n",
    "#https://keplerscience.arc.nasa.gov/PyKE.shtml, for instance, use pip to install PyKE\n",
    "\n",
    "from astropy.io import fits\n",
    "from astropy import wcs\n",
    "%matplotlib inline"
   ]
  },
  {
   "cell_type": "code",
   "execution_count": 3,
   "metadata": {
    "collapsed": false
   },
   "outputs": [],
   "source": [
    "#reading targ file\n",
    "infile=\"kplr012254688-2009131105131_lpd-targ.fits\" \n",
    "hdulist=fits.open(infile)\n",
    "w=wcs.WCS(hdulist[2].header)"
   ]
  },
  {
   "cell_type": "code",
   "execution_count": 4,
   "metadata": {
    "collapsed": false
   },
   "outputs": [],
   "source": [
    "logfile=\"temp.log\";verbose=True\n",
    "maskimg, pixcoord1, pixcoord2, status = kepio.readMaskDefinition(infile,logfile,verbose)"
   ]
  },
  {
   "cell_type": "code",
   "execution_count": 5,
   "metadata": {
    "collapsed": false
   },
   "outputs": [],
   "source": [
    "pixcoord=np.array([pixcoord1,pixcoord2]).transpose()\n",
    "wcoord=[]\n",
    "for i in range(0,pixcoord.shape[0]): \n",
    "    wc=w.wcs_pix2world(pixcoord[i],1)\n",
    "    wcoord.append(wc)\n",
    "wcoord=np.array(wcoord) #RA DEC coordinate"
   ]
  },
  {
   "cell_type": "code",
   "execution_count": 6,
   "metadata": {
    "collapsed": false
   },
   "outputs": [],
   "source": [
    "nx=wcoord.shape[0]\n",
    "ny=wcoord.shape[1]"
   ]
  },
  {
   "cell_type": "code",
   "execution_count": 7,
   "metadata": {
    "collapsed": false
   },
   "outputs": [
    {
     "data": {
      "image/png": "[encoded data removed]",
      "text/plain": [
       "<matplotlib.figure.Figure at 0x10869d310>"
      ]
     },
     "metadata": {},
     "output_type": "display_data"
    }
   ],
   "source": [
    "#showing the RA-DEC coordinate of pixels \n",
    "fig=plt.figure(figsize=(5,5))\n",
    "ax=fig.add_subplot(111)\n",
    "ax.plot(wcoord.reshape(nx*ny,2).transpose()[0],wcoord.reshape(nx*ny,2).transpose()[1],\"*\")\n",
    "plt.gca().get_xaxis().get_major_formatter().set_useOffset(False)\n",
    "plt.gca().get_yaxis().get_major_formatter().set_useOffset(False)\n",
    "pylab.xlabel(\"RA\")\n",
    "pylab.ylabel(\"DEC\")\n",
    "plt.show()"
   ]
  },
  {
   "cell_type": "code",
   "execution_count": null,
   "metadata": {
    "collapsed": true
   },
   "outputs": [],
   "source": []
  }
 ],
 "metadata": {
  "kernelspec": {
   "display_name": "Python 2",
   "language": "python",
   "name": "python2"
  },
  "language_info": {
   "codemirror_mode": {
    "name": "ipython",
    "version": 2
   },
   "file_extension": ".py",
   "mimetype": "text/x-python",
   "name": "python",
   "nbconvert_exporter": "python",
   "pygments_lexer": "ipython2",
   "version": "2.7.10"
  }
 },
 "nbformat": 4,
 "nbformat_minor": 0
}
