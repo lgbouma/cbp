{
 "cells": [
  {
   "cell_type": "markdown",
   "metadata": {},
   "source": [
    "For a mutually inclined CBP orbiting a contact binary, what is the precession timescale? Is it short enough that assuming transits **all through** the Kepler data is obviously dumb?\n",
    "\n",
    "For simplicity, consider just the precession rate of the nodes of a massless particle's orbit around a circular binary, as given by Eq 2.24 of Farago & Laskar (2010). From their equation, some simple rewriting gives (see notes 17/05/22, pg 2)\n",
    "\n",
    "$$\n",
    "\\tau_{\\rm prec} = \\frac{4}{3G^{1/2}} \\frac{a_2^{7/2}}{a_1^2} \\frac{(m_0 + m_1)^{3/2}}{m_0 m_1} \\frac{(1-e_2^2)^2}{\\cos i_2}.\n",
    "$$\n",
    "\n",
    "To answer our search related questions, compute this in useful terms:"
   ]
  },
  {
   "cell_type": "code",
   "execution_count": 2,
   "metadata": {
    "collapsed": false
   },
   "outputs": [],
   "source": [
    "from astropy import units as u, constants as c\n",
    "import numpy as np\n",
    "import matplotlib.pyplot as plt\n",
    "%matplotlib inline\n",
    "\n",
    "def get_τ_prec(m_0, m_1, a_1, a_2, e_2, i_2):\n",
    "    return 4/(3*c.G**(1/2)) * a_2**(7/2) / a_1**2 * \\\n",
    "           (m_0 + m_1)**(3/2) / (m_0 * m_1) * \\\n",
    "           (1-e_2**2)**2 / np.cos(i_2)\n",
    "        \n",
    "def get_a_1(m_0, m_1, P_EB):\n",
    "    '''\n",
    "    a_2 is semimajor axis of the particle in the barycentric reference frame.\n",
    "    a_1 is the semimajor axis of the binary in the barycentric ref frame. the\n",
    "    latter can be obtained directly from Kepler's 3rd.\n",
    "    '''\n",
    "    return (c.G*(m_0 + m_1) / (4*np.pi*np.pi) * P_EB**2 )**(1/3)"
   ]
  },
  {
   "cell_type": "code",
   "execution_count": 3,
   "metadata": {
    "collapsed": false
   },
   "outputs": [
    {
     "name": "stdout",
     "output_type": "stream",
     "text": [
      "33320\n",
      "0\n",
      "1000\n",
      "2000\n",
      "3000\n",
      "4000\n",
      "5000\n",
      "6000\n",
      "7000\n",
      "8000\n",
      "9000\n",
      "10000\n",
      "11000\n",
      "12000\n",
      "13000\n",
      "14000\n",
      "15000\n",
      "16000\n",
      "17000\n",
      "18000\n",
      "19000\n",
      "20000\n",
      "21000\n",
      "22000\n",
      "23000\n",
      "24000\n",
      "25000\n",
      "26000\n",
      "27000\n",
      "28000\n",
      "29000\n",
      "30000\n",
      "31000\n",
      "32000\n",
      "33000\n"
     ]
    }
   ],
   "source": [
    "# Masses of each inner star of the binary\n",
    "m_0_grid = np.arange(0.2, 1.4+0.1, 0.2)*u.Msun\n",
    "m_1_grid = np.arange(0.2, 1.3+0.1, 0.2)*u.Msun\n",
    "# Mutual inclination, defined s.t. i_2 = 90deg is coplanar\n",
    "i_2_grid = np.append(\n",
    "            np.arange(0, np.pi/2, np.pi/16),\n",
    "            np.arange(np.pi/2-np.pi/16, np.pi/2+np.pi/129, np.pi/128)\n",
    "            )*u.radian\n",
    "# Planet eccentricity\n",
    "e_2 = 0\n",
    "# Grid of inner binary periods\n",
    "P_EB_grid = np.logspace(-1, 2, 8, base=10)*u.day\n",
    "\n",
    "# Any combination of m_0, m_1, and P_EB are allowed. This\n",
    "# determines a_1. Then any a_2 and i_2 are allowed. These\n",
    "# combined determine the precession timescale.\n",
    "system_params = {'a_1':[], 'm_0':[], 'm_1':[], 'P_EB':[],\n",
    "                 'a_2':[], 'i_2':[], 'τ_prec': []}\n",
    "ix = 0\n",
    "print(len(m_0_grid)*len(m_1_grid)*len(P_EB_grid)*len(i_2_grid)*len(np.arange(5, 100+5, 20)))\n",
    "for m_0 in m_0_grid:\n",
    "    for m_1 in m_1_grid:\n",
    "        for P_EB in P_EB_grid:\n",
    "            a_1 = get_a_1(m_0, m_1, P_EB)\n",
    "            \n",
    "            a_2_grid = np.arange(5, 100+5, 20)*a_1\n",
    "            \n",
    "            for a_2 in a_2_grid:\n",
    "                for i_2 in i_2_grid:\n",
    "                    if ix % 1000 == 0:\n",
    "                        print(ix)\n",
    "                    \n",
    "                    τ_prec = get_τ_prec(m_0, m_1, a_1, a_2, e_2, i_2)\n",
    "            \n",
    "                    system_params['a_1'].append(a_1.to(u.AU).value)\n",
    "                    system_params['m_1'].append(m_1.to(u.Msun).value)\n",
    "                    system_params['m_0'].append(m_0.to(u.Msun).value)\n",
    "                    system_params['P_EB'].append(P_EB.to(u.day).value)\n",
    "                    system_params['a_2'].append(a_2.to(u.AU).value)\n",
    "                    system_params['i_2'].append(i_2.to(u.degree).value)\n",
    "                    system_params['τ_prec'].append(τ_prec.to(u.yr).value)\n",
    "                    \n",
    "                    ix += 1"
   ]
  },
  {
   "cell_type": "code",
   "execution_count": 4,
   "metadata": {
    "collapsed": true
   },
   "outputs": [],
   "source": [
    "import pandas as pd\n",
    "df = pd.DataFrame(system_params)"
   ]
  },
  {
   "cell_type": "code",
   "execution_count": 5,
   "metadata": {
    "collapsed": false
   },
   "outputs": [
    {
     "data": {
      "text/html": [
       "<div>\n",
       "<table border=\"1\" class=\"dataframe\">\n",
       "  <thead>\n",
       "    <tr style=\"text-align: right;\">\n",
       "      <th></th>\n",
       "      <th>P_EB</th>\n",
       "      <th>a_1</th>\n",
       "      <th>a_2</th>\n",
       "      <th>i_2</th>\n",
       "      <th>m_0</th>\n",
       "      <th>m_1</th>\n",
       "      <th>τ_prec</th>\n",
       "    </tr>\n",
       "  </thead>\n",
       "  <tbody>\n",
       "    <tr>\n",
       "      <th>0</th>\n",
       "      <td>0.1</td>\n",
       "      <td>0.003107</td>\n",
       "      <td>0.015535</td>\n",
       "      <td>0.00</td>\n",
       "      <td>0.2</td>\n",
       "      <td>0.2</td>\n",
       "      <td>0.064957</td>\n",
       "    </tr>\n",
       "    <tr>\n",
       "      <th>1</th>\n",
       "      <td>0.1</td>\n",
       "      <td>0.003107</td>\n",
       "      <td>0.015535</td>\n",
       "      <td>11.25</td>\n",
       "      <td>0.2</td>\n",
       "      <td>0.2</td>\n",
       "      <td>0.066229</td>\n",
       "    </tr>\n",
       "    <tr>\n",
       "      <th>2</th>\n",
       "      <td>0.1</td>\n",
       "      <td>0.003107</td>\n",
       "      <td>0.015535</td>\n",
       "      <td>22.50</td>\n",
       "      <td>0.2</td>\n",
       "      <td>0.2</td>\n",
       "      <td>0.070309</td>\n",
       "    </tr>\n",
       "    <tr>\n",
       "      <th>3</th>\n",
       "      <td>0.1</td>\n",
       "      <td>0.003107</td>\n",
       "      <td>0.015535</td>\n",
       "      <td>33.75</td>\n",
       "      <td>0.2</td>\n",
       "      <td>0.2</td>\n",
       "      <td>0.078123</td>\n",
       "    </tr>\n",
       "    <tr>\n",
       "      <th>4</th>\n",
       "      <td>0.1</td>\n",
       "      <td>0.003107</td>\n",
       "      <td>0.015535</td>\n",
       "      <td>45.00</td>\n",
       "      <td>0.2</td>\n",
       "      <td>0.2</td>\n",
       "      <td>0.091863</td>\n",
       "    </tr>\n",
       "  </tbody>\n",
       "</table>\n",
       "</div>"
      ],
      "text/plain": [
       "   P_EB       a_1       a_2    i_2  m_0  m_1    τ_prec\n",
       "0   0.1  0.003107  0.015535   0.00  0.2  0.2  0.064957\n",
       "1   0.1  0.003107  0.015535  11.25  0.2  0.2  0.066229\n",
       "2   0.1  0.003107  0.015535  22.50  0.2  0.2  0.070309\n",
       "3   0.1  0.003107  0.015535  33.75  0.2  0.2  0.078123\n",
       "4   0.1  0.003107  0.015535  45.00  0.2  0.2  0.091863"
      ]
     },
     "execution_count": 5,
     "metadata": {},
     "output_type": "execute_result"
    }
   ],
   "source": [
    "df.head()"
   ]
  },
  {
   "cell_type": "code",
   "execution_count": 6,
   "metadata": {
    "collapsed": false
   },
   "outputs": [
    {
     "data": {
      "text/plain": [
       "count    3.332000e+04\n",
       "mean     7.958714e+18\n",
       "std      1.035179e+20\n",
       "min      6.495665e-02\n",
       "25%      5.588886e+02\n",
       "50%      1.648475e+04\n",
       "75%      2.768305e+05\n",
       "max      4.134888e+21\n",
       "Name: τ_prec, dtype: float64"
      ]
     },
     "execution_count": 6,
     "metadata": {},
     "output_type": "execute_result"
    }
   ],
   "source": [
    "df['τ_prec'].describe()"
   ]
  },
  {
   "cell_type": "code",
   "execution_count": 7,
   "metadata": {
    "collapsed": false
   },
   "outputs": [
    {
     "data": {
      "text/plain": [
       "0.064956654658195542"
      ]
     },
     "execution_count": 7,
     "metadata": {},
     "output_type": "execute_result"
    }
   ],
   "source": [
    "min(df['τ_prec'])"
   ]
  },
  {
   "cell_type": "code",
   "execution_count": 8,
   "metadata": {
    "collapsed": false
   },
   "outputs": [
    {
     "name": "stderr",
     "output_type": "stream",
     "text": [
      "/home/luke/Dropbox/miniconda3/envs/sci/lib/python3.5/site-packages/matplotlib/figure.py:397: UserWarning: matplotlib is currently using a non-GUI backend, so cannot show the figure\n",
      "  \"matplotlib is currently using a non-GUI backend, \"\n"
     ]
    },
    {
     "data": {
      "image/png": "[encoded data removed]",
      "text/plain": [
       "<matplotlib.figure.Figure at 0x7f7a80061518>"
      ]
     },
     "metadata": {},
     "output_type": "display_data"
    }
   ],
   "source": [
    "f, ax = plt.subplots(figsize=(4,4))\n",
    "x = np.array(df['P_EB'])\n",
    "y = np.array(df['τ_prec'])\n",
    "ax.scatter(x, y, c='k', alpha=0.1)\n",
    "ax.set_xlabel('P_EB [days]')\n",
    "ax.set_ylabel('prec timescale [yr]')\n",
    "ax.set_xscale('log')\n",
    "ax.set_yscale('log')\n",
    "f.show()"
   ]
  },
  {
   "cell_type": "code",
   "execution_count": 9,
   "metadata": {
    "collapsed": false
   },
   "outputs": [
    {
     "name": "stderr",
     "output_type": "stream",
     "text": [
      "/home/luke/Dropbox/miniconda3/envs/sci/lib/python3.5/site-packages/matplotlib/figure.py:397: UserWarning: matplotlib is currently using a non-GUI backend, so cannot show the figure\n",
      "  \"matplotlib is currently using a non-GUI backend, \"\n"
     ]
    },
    {
     "data": {
      "image/png": "[encoded data removed]",
      "text/plain": [
       "<matplotlib.figure.Figure at 0x7f7a7d5fc908>"
      ]
     },
     "metadata": {},
     "output_type": "display_data"
    }
   ],
   "source": [
    "f, ax = plt.subplots(figsize=(4,4))\n",
    "x = np.array(df['P_EB'])\n",
    "y = np.array(df['τ_prec'])\n",
    "ax.scatter(x, y, c='k', alpha=0.1)\n",
    "ax.set_xlabel('P_EB [days]')\n",
    "ax.set_ylabel('prec timescale [yr]')\n",
    "ax.set_xscale('log')\n",
    "ax.set_yscale('log')\n",
    "ax.set_ylim([1e-2,1e2])\n",
    "f.show()"
   ]
  },
  {
   "cell_type": "markdown",
   "metadata": {},
   "source": [
    "Ok, we're interested in the systems that have precession timescales less than... like 10 yrs? 100 yrs? The point is that they need to be short enough that making the assumption of \"all transits go are visible in the Kepler data\" is a bad one. (If we're making this counterargument in a strong way)"
   ]
  },
  {
   "cell_type": "code",
   "execution_count": 10,
   "metadata": {
    "collapsed": false
   },
   "outputs": [
    {
     "data": {
      "text/html": [
       "<div>\n",
       "<table border=\"1\" class=\"dataframe\">\n",
       "  <thead>\n",
       "    <tr style=\"text-align: right;\">\n",
       "      <th></th>\n",
       "      <th>P_EB</th>\n",
       "      <th>a_1</th>\n",
       "      <th>a_2</th>\n",
       "      <th>i_2</th>\n",
       "      <th>m_0</th>\n",
       "      <th>m_1</th>\n",
       "      <th>τ_prec</th>\n",
       "    </tr>\n",
       "  </thead>\n",
       "  <tbody>\n",
       "    <tr>\n",
       "      <th>count</th>\n",
       "      <td>5603.000000</td>\n",
       "      <td>5603.000000</td>\n",
       "      <td>5603.000000</td>\n",
       "      <td>5603.000000</td>\n",
       "      <td>5603.000000</td>\n",
       "      <td>5603.000000</td>\n",
       "      <td>5603.000000</td>\n",
       "    </tr>\n",
       "    <tr>\n",
       "      <th>mean</th>\n",
       "      <td>8.043270</td>\n",
       "      <td>0.063666</td>\n",
       "      <td>0.333530</td>\n",
       "      <td>54.164594</td>\n",
       "      <td>0.804069</td>\n",
       "      <td>0.804069</td>\n",
       "      <td>20.232643</td>\n",
       "    </tr>\n",
       "    <tr>\n",
       "      <th>std</th>\n",
       "      <td>19.140520</td>\n",
       "      <td>0.102434</td>\n",
       "      <td>0.505810</td>\n",
       "      <td>30.096138</td>\n",
       "      <td>0.396267</td>\n",
       "      <td>0.396267</td>\n",
       "      <td>26.222870</td>\n",
       "    </tr>\n",
       "    <tr>\n",
       "      <th>min</th>\n",
       "      <td>0.100000</td>\n",
       "      <td>0.003107</td>\n",
       "      <td>0.015535</td>\n",
       "      <td>0.000000</td>\n",
       "      <td>0.200000</td>\n",
       "      <td>0.200000</td>\n",
       "      <td>0.064957</td>\n",
       "    </tr>\n",
       "    <tr>\n",
       "      <th>25%</th>\n",
       "      <td>0.268270</td>\n",
       "      <td>0.008651</td>\n",
       "      <td>0.051286</td>\n",
       "      <td>22.500000</td>\n",
       "      <td>0.400000</td>\n",
       "      <td>0.400000</td>\n",
       "      <td>1.190963</td>\n",
       "    </tr>\n",
       "    <tr>\n",
       "      <th>50%</th>\n",
       "      <td>0.719686</td>\n",
       "      <td>0.019804</td>\n",
       "      <td>0.141141</td>\n",
       "      <td>67.500000</td>\n",
       "      <td>0.800000</td>\n",
       "      <td>0.800000</td>\n",
       "      <td>6.898608</td>\n",
       "    </tr>\n",
       "    <tr>\n",
       "      <th>75%</th>\n",
       "      <td>5.179475</td>\n",
       "      <td>0.071273</td>\n",
       "      <td>0.356363</td>\n",
       "      <td>81.562500</td>\n",
       "      <td>1.200000</td>\n",
       "      <td>1.200000</td>\n",
       "      <td>29.316951</td>\n",
       "    </tr>\n",
       "    <tr>\n",
       "      <th>max</th>\n",
       "      <td>100.000000</td>\n",
       "      <td>0.594330</td>\n",
       "      <td>2.971648</td>\n",
       "      <td>88.593750</td>\n",
       "      <td>1.400000</td>\n",
       "      <td>1.400000</td>\n",
       "      <td>99.632742</td>\n",
       "    </tr>\n",
       "  </tbody>\n",
       "</table>\n",
       "</div>"
      ],
      "text/plain": [
       "              P_EB          a_1          a_2          i_2          m_0  \\\n",
       "count  5603.000000  5603.000000  5603.000000  5603.000000  5603.000000   \n",
       "mean      8.043270     0.063666     0.333530    54.164594     0.804069   \n",
       "std      19.140520     0.102434     0.505810    30.096138     0.396267   \n",
       "min       0.100000     0.003107     0.015535     0.000000     0.200000   \n",
       "25%       0.268270     0.008651     0.051286    22.500000     0.400000   \n",
       "50%       0.719686     0.019804     0.141141    67.500000     0.800000   \n",
       "75%       5.179475     0.071273     0.356363    81.562500     1.200000   \n",
       "max     100.000000     0.594330     2.971648    88.593750     1.400000   \n",
       "\n",
       "               m_1       τ_prec  \n",
       "count  5603.000000  5603.000000  \n",
       "mean      0.804069    20.232643  \n",
       "std       0.396267    26.222870  \n",
       "min       0.200000     0.064957  \n",
       "25%       0.400000     1.190963  \n",
       "50%       0.800000     6.898608  \n",
       "75%       1.200000    29.316951  \n",
       "max       1.400000    99.632742  "
      ]
     },
     "execution_count": 10,
     "metadata": {},
     "output_type": "execute_result"
    }
   ],
   "source": [
    "# df_sp : dataframe with short period precession\n",
    "df_sp = df[df['τ_prec'] < 1e2]\n",
    "df_sp.describe()"
   ]
  },
  {
   "cell_type": "code",
   "execution_count": 11,
   "metadata": {
    "collapsed": false
   },
   "outputs": [
    {
     "data": {
      "text/plain": [
       "array([  0.     ,  11.25   ,  22.5    ,  33.75   ,  45.     ,  56.25   ,\n",
       "        67.5    ,  78.75   ,  80.15625,  81.5625 ,  82.96875,  84.375  ,\n",
       "        85.78125,  87.1875 ,  88.59375])"
      ]
     },
     "execution_count": 11,
     "metadata": {},
     "output_type": "execute_result"
    }
   ],
   "source": [
    "np.unique(df_sp['i_2'])"
   ]
  },
  {
   "cell_type": "code",
   "execution_count": 12,
   "metadata": {
    "collapsed": false
   },
   "outputs": [
    {
     "data": {
      "text/plain": [
       "(array([ 480,  478,  476,  470,    0,  458,  423,  384,  630, 1804]),\n",
       " array([  0.      ,   8.859375,  17.71875 ,  26.578125,  35.4375  ,\n",
       "         44.296875,  53.15625 ,  62.015625,  70.875   ,  79.734375,\n",
       "         88.59375 ]))"
      ]
     },
     "execution_count": 12,
     "metadata": {},
     "output_type": "execute_result"
    }
   ],
   "source": [
    "np.histogram(df_sp['i_2'])"
   ]
  },
  {
   "cell_type": "markdown",
   "metadata": {},
   "source": [
    "The interesting take-away is that mutual inclinations above ~79 deg make this kind of precession timescale ignoreable for the purpose of my search. (Interesting....).\n",
    "\n",
    "So: you're not _as_ sensitive to things with mutual inclinations less than 79 deg (i.e. with misalignments of the orbital planes of more than 20 deg), but above that (towards greater degrees of coplanarity), it's pretty much fine b/c of that 1/cosi in the precession timescale."
   ]
  },
  {
   "cell_type": "code",
   "execution_count": 13,
   "metadata": {
    "collapsed": false
   },
   "outputs": [
    {
     "data": {
      "text/latex": [
       "$[0,~11.25,~22.5,~33.75,~45,~56.25,~67.5,~78.75,~80.15625,~81.5625,~82.96875,~84.375,~85.78125,~87.1875,~88.59375,~90] \\; \\mathrm{{}^{\\circ}}$"
      ],
      "text/plain": [
       "<Quantity [  0.     , 11.25   , 22.5    , 33.75   , 45.     , 56.25   ,\n",
       "            67.5    , 78.75   , 80.15625, 81.5625 , 82.96875, 84.375  ,\n",
       "            85.78125, 87.1875 , 88.59375, 90.     ] deg>"
      ]
     },
     "execution_count": 13,
     "metadata": {},
     "output_type": "execute_result"
    }
   ],
   "source": [
    "np.unique(i_2_grid.to(u.degree))"
   ]
  },
  {
   "cell_type": "code",
   "execution_count": 14,
   "metadata": {
    "collapsed": false
   },
   "outputs": [
    {
     "data": {
      "text/plain": [
       "5603"
      ]
     },
     "execution_count": 14,
     "metadata": {},
     "output_type": "execute_result"
    }
   ],
   "source": [
    "len(df_sp)"
   ]
  },
  {
   "cell_type": "code",
   "execution_count": 15,
   "metadata": {
    "collapsed": false
   },
   "outputs": [
    {
     "data": {
      "text/plain": [
       "1804"
      ]
     },
     "execution_count": 15,
     "metadata": {},
     "output_type": "execute_result"
    }
   ],
   "source": [
    "len(df_sp[df_sp['i_2'] > 80])"
   ]
  },
  {
   "cell_type": "code",
   "execution_count": 16,
   "metadata": {
    "collapsed": false
   },
   "outputs": [
    {
     "data": {
      "text/latex": [
       "$[0,~11.25,~22.5,~33.75,~45,~56.25,~67.5,~78.75,~78.75,~80.15625,~81.5625,~82.96875,~84.375,~85.78125,~87.1875,~88.59375,~90] \\; \\mathrm{{}^{\\circ}}$"
      ],
      "text/plain": [
       "<Quantity [  0.     , 11.25   , 22.5    , 33.75   , 45.     , 56.25   ,\n",
       "            67.5    , 78.75   , 78.75   , 80.15625, 81.5625 , 82.96875,\n",
       "            84.375  , 85.78125, 87.1875 , 88.59375, 90.     ] deg>"
      ]
     },
     "execution_count": 16,
     "metadata": {},
     "output_type": "execute_result"
    }
   ],
   "source": [
    "i_2_grid.to(u.degree)"
   ]
  },
  {
   "cell_type": "code",
   "execution_count": 19,
   "metadata": {
    "collapsed": false
   },
   "outputs": [
    {
     "data": {
      "text/latex": [
       "$40.747756 \\; \\mathrm{}$"
      ],
      "text/plain": [
       "<Quantity 40.747756334461805>"
      ]
     },
     "execution_count": 19,
     "metadata": {},
     "output_type": "execute_result"
    }
   ],
   "source": [
    "1/np.cos(i_2_grid[-2])"
   ]
  },
  {
   "cell_type": "markdown",
   "metadata": {},
   "source": [
    "# what about putting the upper bound a bit more... directly?\n",
    "(can restart nb from here)"
   ]
  },
  {
   "cell_type": "code",
   "execution_count": 5,
   "metadata": {
    "collapsed": false
   },
   "outputs": [
    {
     "data": {
      "text/plain": [
       "26.153209720236603"
      ]
     },
     "execution_count": 5,
     "metadata": {},
     "output_type": "execute_result"
    }
   ],
   "source": [
    "from astropy import units as u, constants as c\n",
    "import numpy as np\n",
    "import matplotlib.pyplot as plt\n",
    "%matplotlib inline\n",
    "\n",
    "m_0_grid = np.arange(0.1, 2+0.1, 0.1)*u.Msun\n",
    "m_1_grid = np.arange(0.1, 2+0.1, 0.1)*u.Msun\n",
    "\n",
    "m_frac = []\n",
    "for m_0 in m_0_grid:\n",
    "    for m_1 in m_1_grid:\n",
    "        m_frac_val = (m_0 + m_1)**(5/6) / (m_0 * m_1)\n",
    "        m_frac.append(m_frac_val.to(u.Msun**(-7/6)).value)\n",
    "        \n",
    "max(m_frac)\n"
   ]
  },
  {
   "cell_type": "code",
   "execution_count": 4,
   "metadata": {
    "collapsed": false
   },
   "outputs": [
    {
     "data": {
      "text/latex": [
       "$0.79370053 \\; \\mathrm{\\frac{1}{M_{\\odot}^{7/6}}}$"
      ],
      "text/plain": [
       "<Quantity 0.7937005259840998 1 / solMass(7/6)>"
      ]
     },
     "execution_count": 4,
     "metadata": {},
     "output_type": "execute_result"
    }
   ],
   "source": [
    "m_frac_val"
   ]
  },
  {
   "cell_type": "code",
   "execution_count": 10,
   "metadata": {
    "collapsed": false
   },
   "outputs": [
    {
     "data": {
      "image/png": "[encoded data removed]",
      "text/plain": [
       "<matplotlib.figure.Figure at 0x7fd0dcde61d0>"
      ]
     },
     "metadata": {},
     "output_type": "display_data"
    }
   ],
   "source": [
    "import matplotlib\n",
    "import numpy as np\n",
    "import matplotlib.cm as cm\n",
    "import matplotlib.mlab as mlab\n",
    "import matplotlib.pyplot as plt\n",
    "\n",
    "matplotlib.rcParams['xtick.direction'] = 'out'\n",
    "matplotlib.rcParams['ytick.direction'] = 'out'\n",
    "\n",
    "x = np.arange(0.1, 2+0.1, 0.1)*u.Msun\n",
    "y = np.arange(0.1, 2+0.1, 0.1)*u.Msun\n",
    "X, Y = np.meshgrid(x.value, y.value)\n",
    "Z = (X + Y)**(5/6) / (X * Y)\n",
    "\n",
    "plt.figure()\n",
    "CS = plt.contour(X, Y, Z)\n",
    "plt.clabel(CS, inline=1, fontsize=10)\n",
    "plt.ylabel('m_1')\n",
    "plt.xlabel('m_0')\n",
    "plt.title('contour of m_frac');"
   ]
  },
  {
   "cell_type": "code",
   "execution_count": 11,
   "metadata": {
    "collapsed": false
   },
   "outputs": [
    {
     "data": {
      "text/latex": [
       "$26.15321 \\; \\mathrm{\\frac{1}{M_{\\odot}^{7/6}}}$"
      ],
      "text/plain": [
       "<Quantity 26.153209720236603 1 / solMass(7/6)>"
      ]
     },
     "execution_count": 11,
     "metadata": {},
     "output_type": "execute_result"
    }
   ],
   "source": [
    "m_0 = 0.1*u.Msun \n",
    "m_1 = 0.1*u.Msun\n",
    "(m_0 + m_1)**(5/6) / (m_0*m_1)"
   ]
  },
  {
   "cell_type": "code",
   "execution_count": 18,
   "metadata": {
    "collapsed": false
   },
   "outputs": [
    {
     "data": {
      "image/png": "[encoded data removed]",
      "text/plain": [
       "<matplotlib.figure.Figure at 0x7fd0df49c7b8>"
      ]
     },
     "metadata": {},
     "output_type": "display_data"
    }
   ],
   "source": [
    "import matplotlib\n",
    "import numpy as np\n",
    "import matplotlib.cm as cm\n",
    "import matplotlib.mlab as mlab\n",
    "import matplotlib.pyplot as plt\n",
    "\n",
    "matplotlib.rcParams['xtick.direction'] = 'out'\n",
    "matplotlib.rcParams['ytick.direction'] = 'out'\n",
    "\n",
    "x = np.arange(0.1, 2+0.1, 0.1)*u.Msun\n",
    "y = np.arange(0.1, 2+0.1, 0.1)*u.Msun\n",
    "X, Y = np.meshgrid(x.value, y.value)\n",
    "Z = (X + Y)**(2) / (X * Y)\n",
    "\n",
    "plt.figure()\n",
    "CS = plt.contour(X, Y, Z)\n",
    "plt.clabel(CS, inline=1, fontsize=10)\n",
    "plt.ylabel('m_1')\n",
    "plt.xlabel('m_0')\n",
    "plt.title('contour of m_frac, pg 4 17/05/22');"
   ]
  },
  {
   "cell_type": "code",
   "execution_count": 19,
   "metadata": {
    "collapsed": false
   },
   "outputs": [
    {
     "data": {
      "text/plain": [
       "22.050000000000001"
      ]
     },
     "execution_count": 19,
     "metadata": {},
     "output_type": "execute_result"
    }
   ],
   "source": [
    "np.max(Z)"
   ]
  },
  {
   "cell_type": "markdown",
   "metadata": {},
   "source": [
    "The upper limit you get from doing stupid shit on pg 4, 17/05/22, is:"
   ]
  },
  {
   "cell_type": "code",
   "execution_count": 20,
   "metadata": {
    "collapsed": false
   },
   "outputs": [
    {
     "data": {
      "text/latex": [
       "$12810.829 \\; \\mathrm{}$"
      ],
      "text/plain": [
       "<Quantity 12810.82909487125>"
      ]
     },
     "execution_count": 20,
     "metadata": {},
     "output_type": "execute_result"
    }
   ],
   "source": [
    "P_EB = 10*u.day\n",
    "τ_prec = 100*u.year\n",
    "m_frac_max = 22.05\n",
    "e_2 = 0\n",
    "x = 100\n",
    "\n",
    "cos_i2_is_less_than = 2 * x**(7/2) / (3 * np.pi * τ_prec) * \\\n",
    "                      P_EB * m_frac_max\n",
    "    \n",
    "cos_i2_is_less_than.cgs"
   ]
  },
  {
   "cell_type": "markdown",
   "metadata": {
    "collapsed": true
   },
   "source": [
    "So right, this upper limit is stupid."
   ]
  },
  {
   "cell_type": "markdown",
   "metadata": {},
   "source": [
    "# what about, pg 5, just going direct from the precession timescale argument\n",
    "\n"
   ]
  },
  {
   "cell_type": "code",
   "execution_count": 1,
   "metadata": {
    "collapsed": true
   },
   "outputs": [],
   "source": [
    "from math import pi"
   ]
  },
  {
   "cell_type": "code",
   "execution_count": 2,
   "metadata": {
    "collapsed": false
   },
   "outputs": [
    {
     "data": {
      "text/plain": [
       "16.355714285714285"
      ]
     },
     "execution_count": 2,
     "metadata": {},
     "output_type": "execute_result"
    }
   ],
   "source": [
    "(1+0.07)**2/0.07"
   ]
  },
  {
   "cell_type": "code",
   "execution_count": 3,
   "metadata": {
    "collapsed": false
   },
   "outputs": [
    {
     "data": {
      "text/plain": [
       "4.5"
      ]
     },
     "execution_count": 3,
     "metadata": {},
     "output_type": "execute_result"
    }
   ],
   "source": [
    "(1+0.5)**2/0.5"
   ]
  },
  {
   "cell_type": "code",
   "execution_count": 7,
   "metadata": {
    "collapsed": false
   },
   "outputs": [
    {
     "name": "stderr",
     "output_type": "stream",
     "text": [
      "/home/luke/Dropbox/miniconda3/envs/sci/lib/python3.5/site-packages/matplotlib/figure.py:397: UserWarning: matplotlib is currently using a non-GUI backend, so cannot show the figure\n",
      "  \"matplotlib is currently using a non-GUI backend, \"\n"
     ]
    },
    {
     "data": {
      "image/png": "[encoded data removed]",
      "text/plain": [
       "<matplotlib.figure.Figure at 0x7fdad03cb278>"
      ]
     },
     "metadata": {},
     "output_type": "display_data"
    }
   ],
   "source": [
    "import matplotlib.pyplot as plt\n",
    "import numpy as np\n",
    "%matplotlib inline\n",
    "\n",
    "q = np.arange(0.01, 1, 0.01)\n",
    "\n",
    "f, ax = plt.subplots(figsize=(4,4))\n",
    "\n",
    "ax.plot(q, (1+q)**2/q, 'k-')\n",
    "ax.set_yscale('log')\n",
    "f.show()"
   ]
  },
  {
   "cell_type": "code",
   "execution_count": 11,
   "metadata": {
    "collapsed": false
   },
   "outputs": [],
   "source": [
    "from astropy import units as u\n",
    "prefactor = 2/(3*pi) * 10**(7/2) * 4. * 3*u.day"
   ]
  },
  {
   "cell_type": "code",
   "execution_count": 12,
   "metadata": {
    "collapsed": false
   },
   "outputs": [
    {
     "data": {
      "text/latex": [
       "$22.04702 \\; \\mathrm{yr}$"
      ],
      "text/plain": [
       "<Quantity 22.047019676161334 yr>"
      ]
     },
     "execution_count": 12,
     "metadata": {},
     "output_type": "execute_result"
    }
   ],
   "source": [
    "prefactor.to(u.yr)"
   ]
  },
  {
   "cell_type": "markdown",
   "metadata": {
    "collapsed": true
   },
   "source": [
    "# use pg 6 expression:\n",
    "$$\n",
    "\\tau_{\\rm prec} = 22.05\\,{\\rm yr}\\,\\left(\\frac{x}{10}\\right)^{7/2} \\left(\\frac{P_{\\rm EB}}{3\\,{\\rm days}} \\right) \\frac{(1+q)^2}{4q} \\frac{(1-e_2^2)^2}{\\cos i_2}\n",
    "$$"
   ]
  },
  {
   "cell_type": "code",
   "execution_count": 3,
   "metadata": {
    "collapsed": false
   },
   "outputs": [
    {
     "data": {
      "text/latex": [
       "$0.14662581 \\; \\mathrm{yr}$"
      ],
      "text/plain": [
       "<Quantity 0.1466258101386194 yr>"
      ]
     },
     "execution_count": 3,
     "metadata": {},
     "output_type": "execute_result"
    }
   ],
   "source": [
    "from astropy import units as u\n",
    "\n",
    "q = 1 # m_1/m_0\n",
    "e_2 = 0\n",
    "\n",
    "# using Eq 4 of Martin, Mazeh & Fabrycky 2014, which is from Holman & Wiegert 1999\n",
    "x = 1.6 + 4.12/(1+q) - 5.09/((1+q)**2)\n",
    "\n",
    "prefactor = 22.05*u.yr * (x/10)**(7/2)\n",
    "prefactor"
   ]
  },
  {
   "cell_type": "code",
   "execution_count": 4,
   "metadata": {
    "collapsed": false
   },
   "outputs": [
    {
     "data": {
      "text/plain": [
       "2.3875"
      ]
     },
     "execution_count": 4,
     "metadata": {},
     "output_type": "execute_result"
    }
   ],
   "source": [
    "x"
   ]
  },
  {
   "cell_type": "code",
   "execution_count": 6,
   "metadata": {
    "collapsed": false
   },
   "outputs": [
    {
     "data": {
      "text/latex": [
       "$682.00817 \\; \\mathrm{\\frac{1}{yr}}$"
      ],
      "text/plain": [
       "<Quantity 682.008166948646 1 / yr>"
      ]
     },
     "execution_count": 6,
     "metadata": {},
     "output_type": "execute_result"
    }
   ],
   "source": [
    "100/prefactor "
   ]
  },
  {
   "cell_type": "code",
   "execution_count": 7,
   "metadata": {
    "collapsed": false
   },
   "outputs": [
    {
     "data": {
      "text/latex": [
       "$99.998803 \\; \\mathrm{yr}$"
      ],
      "text/plain": [
       "<Quantity 99.99880251453843 yr>"
      ]
     },
     "execution_count": 7,
     "metadata": {},
     "output_type": "execute_result"
    }
   ],
   "source": [
    "682*prefactor"
   ]
  },
  {
   "cell_type": "code",
   "execution_count": 8,
   "metadata": {
    "collapsed": false
   },
   "outputs": [
    {
     "data": {
      "text/plain": [
       "89.915988562985703"
      ]
     },
     "execution_count": 8,
     "metadata": {},
     "output_type": "execute_result"
    }
   ],
   "source": [
    "import numpy as np\n",
    "i_2 = np.rad2deg(np.arccos(1/682.))\n",
    "i_2"
   ]
  },
  {
   "cell_type": "code",
   "execution_count": 9,
   "metadata": {
    "collapsed": false
   },
   "outputs": [
    {
     "data": {
      "text/plain": [
       "0.2205"
      ]
     },
     "execution_count": 9,
     "metadata": {},
     "output_type": "execute_result"
    }
   ],
   "source": [
    "22.05/100"
   ]
  },
  {
   "cell_type": "code",
   "execution_count": 2,
   "metadata": {
    "collapsed": false
   },
   "outputs": [
    {
     "name": "stderr",
     "output_type": "stream",
     "text": [
      "/home/luke/Dropbox/miniconda3/envs/sci/lib/python3.5/site-packages/ipykernel/__main__.py:16: RuntimeWarning: invalid value encountered in arccos\n"
     ]
    }
   ],
   "source": [
    "import matplotlib\n",
    "import numpy as np\n",
    "import matplotlib.cm as cm\n",
    "import matplotlib.mlab as mlab\n",
    "import matplotlib.pyplot as plt\n",
    "import numpy.ma as ma\n",
    "from astropy import units as u\n",
    "\n",
    "%matplotlib inline\n",
    "\n",
    "x = np.logspace(-1, 2, 100, base=10)*u.day\n",
    "y = np.arange(2, 100+1, 1)\n",
    "X, Y = np.meshgrid(x.value, y)\n",
    "arg = 0.2205 * (X/10)**(7/2) * Y/3\n",
    "arg_lt_1 = ma.masked_where(arg<1, arg)\n",
    "Z = np.rad2deg(np.arccos( arg_lt_1.data ))"
   ]
  },
  {
   "cell_type": "code",
   "execution_count": 3,
   "metadata": {
    "collapsed": false
   },
   "outputs": [
    {
     "data": {
      "text/plain": [
       "(99, 100)"
      ]
     },
     "execution_count": 3,
     "metadata": {},
     "output_type": "execute_result"
    }
   ],
   "source": [
    "Z.shape"
   ]
  },
  {
   "cell_type": "code",
   "execution_count": 14,
   "metadata": {
    "collapsed": false
   },
   "outputs": [
    {
     "data": {
      "image/png": "[encoded data removed]",
      "text/plain": [
       "<matplotlib.figure.Figure at 0x7f71990d3b38>"
      ]
     },
     "metadata": {},
     "output_type": "display_data"
    }
   ],
   "source": [
    "import matplotlib.cm as cm\n",
    "\n",
    "f, ax = plt.subplots(figsize=(4,4))\n",
    "\n",
    "levels = [30,45,60,75,80,85,87,89,89.5,89.9, 89.95, 89.99, 89.999]\n",
    "\n",
    "ax.set_yscale('log')\n",
    "ax.set_ylabel('$x = a_2/a_1$')\n",
    "ax.set_xlabel('$P_\\mathrm{EB}$ [days]')\n",
    "ax.set_xlim([0,15])\n",
    "ax.set_ylim([2,100])\n",
    "\n",
    "CS = ax.contour(Z, levels,\n",
    "                 origin='lower',\n",
    "                 linewidths=1,\n",
    "                 extent=(0.1, 20, 2, 100),\n",
    "                 cmap=cm.viridis_r)\n",
    "\n",
    "ax.clabel(CS, inline=1, fmt='%.3f', fontsize='xx-small')\n",
    "\n",
    "ax.axhline(2.5, 0, 15, color='black')\n",
    "t = ax.text(0.5, 2.7, 'HW99 lower limit', \n",
    "        color='black', verticalalignment='bottom', \n",
    "        horizontalalignment='left', fontsize='x-small')\n",
    "t.set_bbox(dict(facecolor='white', alpha=0.9, edgecolor='white'))\n",
    "\n",
    "#ax.set_xscale('log')\n",
    "ax.set_title('contour of minimum i_2 required for 100yr precession timescale,\\n(2 deg over 4 yr) pg 7 17/05/22',\n",
    "             fontsize='x-small')\n",
    "f.tight_layout()\n",
    "f.savefig('plots/minimum_mutual_inclination_contour_plot.pdf')"
   ]
  },
  {
   "cell_type": "code",
   "execution_count": 1,
   "metadata": {
    "collapsed": false
   },
   "outputs": [
    {
     "data": {
      "text/plain": [
       "89.915989569011174"
      ]
     },
     "execution_count": 1,
     "metadata": {},
     "output_type": "execute_result"
    }
   ],
   "source": [
    "import numpy as np\n",
    "def i_2(x, P_EB, q, e_2):\n",
    "    # P_EB in days.\n",
    "    # gives i_2 in deg\n",
    "    return np.rad2deg( np.arccos( 22.05/100 * (x/10)**(7/2) * P_EB/3 * (1+q)**2/(4*q) * (1-e_2**2)**2 ) )\n",
    "\n",
    "i_2(2.3875, 3, 1, 0)\n"
   ]
  },
  {
   "cell_type": "code",
   "execution_count": 2,
   "metadata": {
    "collapsed": false
   },
   "outputs": [
    {
     "data": {
      "text/plain": [
       "79.297089896465636"
      ]
     },
     "execution_count": 2,
     "metadata": {},
     "output_type": "execute_result"
    }
   ],
   "source": [
    "i_2(6.75, 10., 1, 0)"
   ]
  },
  {
   "cell_type": "code",
   "execution_count": 3,
   "metadata": {
    "collapsed": false
   },
   "outputs": [
    {
     "data": {
      "text/plain": [
       "78.128961357300696"
      ]
     },
     "execution_count": 3,
     "metadata": {},
     "output_type": "execute_result"
    }
   ],
   "source": [
    "i_2(9.03, 4, 1, 0)"
   ]
  },
  {
   "cell_type": "code",
   "execution_count": 4,
   "metadata": {
    "collapsed": false
   },
   "outputs": [
    {
     "data": {
      "text/plain": [
       "77.261597912073697"
      ]
     },
     "execution_count": 4,
     "metadata": {},
     "output_type": "execute_result"
    }
   ],
   "source": [
    "i_2(10, 3, 1, 0)\n"
   ]
  },
  {
   "cell_type": "code",
   "execution_count": 5,
   "metadata": {
    "collapsed": false
   },
   "outputs": [
    {
     "data": {
      "text/plain": [
       "77.261597912073697"
      ]
     },
     "execution_count": 5,
     "metadata": {},
     "output_type": "execute_result"
    }
   ],
   "source": [
    "np.rad2deg( np.arccos( 22.05/100 ) )"
   ]
  },
  {
   "cell_type": "code",
   "execution_count": null,
   "metadata": {
    "collapsed": true
   },
   "outputs": [],
   "source": []
  }
 ],
 "metadata": {
  "anaconda-cloud": {},
  "kernelspec": {
   "display_name": "Python [conda env:sci]",
   "language": "python",
   "name": "conda-env-sci-py"
  },
  "language_info": {
   "codemirror_mode": {
    "name": "ipython",
    "version": 3
   },
   "file_extension": ".py",
   "mimetype": "text/x-python",
   "name": "python",
   "nbconvert_exporter": "python",
   "pygments_lexer": "ipython3",
   "version": "3.5.2"
  }
 },
 "nbformat": 4,
 "nbformat_minor": 1
}
