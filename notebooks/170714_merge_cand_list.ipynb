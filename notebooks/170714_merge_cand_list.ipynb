{
 "cells": [
  {
   "cell_type": "markdown",
   "metadata": {},
   "source": [
    "* crossmatch all ur lists (original realsearch dipsearcplot, Fei's parsing, my reparsing of the vet pickles plots)                                                                     \n",
    "  \n",
    "* make list of: \"probably planets\", \"probably EBs\" \"low SNR maybes\""
   ]
  },
  {
   "cell_type": "code",
   "execution_count": 1,
   "metadata": {
    "collapsed": false
   },
   "outputs": [],
   "source": [
    "import pandas as pd\n",
    "import numpy as np\n",
    "\n",
    "cl_path = '../results/real_search/merged_cand_lists/'\n",
    "\n",
    "first = pd.read_csv(cl_path+'170410_human_labels.txt',\n",
    "                    names=['kicid','human_label'], \n",
    "                    delimiter=',',dtype={'kicid':int,'human_label':str})\n",
    "first = first[(first['human_label'] == 'dip') | (first['human_label'] == 'maybe_dip')]\n",
    "\n",
    "second = pd.read_csv(cl_path+'170708_human_labels.txt',\n",
    "                    names=['kicid','human_label'], \n",
    "                    delimiter=',',dtype={'kicid':int,'human_label':str})\n",
    "second = second[(second['human_label'] == 'dip') | (second['human_label'] == 'maybe_dip')]\n",
    "\n",
    "fei = pd.read_csv(cl_path+'fei_labels_170712.txt',\n",
    "                    names=['kicid','comment'], \n",
    "                    delimiter=',',dtype={'kicid':int,'human_label':str})\n",
    "\n",
    "vet = pd.read_csv(cl_path+'lgb_labels_vet_plot_170714.txt',\n",
    "                    names=['kicid','comment'], \n",
    "                    delimiter=',',dtype={'kicid':int,'human_label':str})"
   ]
  },
  {
   "cell_type": "code",
   "execution_count": 2,
   "metadata": {
    "collapsed": false
   },
   "outputs": [
    {
     "data": {
      "text/plain": [
       "50"
      ]
     },
     "execution_count": 2,
     "metadata": {},
     "output_type": "execute_result"
    }
   ],
   "source": [
    "len(first)"
   ]
  },
  {
   "cell_type": "code",
   "execution_count": 3,
   "metadata": {
    "collapsed": false
   },
   "outputs": [
    {
     "data": {
      "text/plain": [
       "110"
      ]
     },
     "execution_count": 3,
     "metadata": {},
     "output_type": "execute_result"
    }
   ],
   "source": [
    "len(second)"
   ]
  },
  {
   "cell_type": "markdown",
   "metadata": {},
   "source": [
    "make \"probably planet\" list"
   ]
  },
  {
   "cell_type": "code",
   "execution_count": 4,
   "metadata": {
    "collapsed": false
   },
   "outputs": [],
   "source": [
    "probplanet_list = []\n",
    "probplanet_kicids = []\n",
    "\n",
    "for cl in [first[first['human_label']=='dip'].iterrows(),\n",
    "           second[second['human_label']=='dip'].iterrows(),\n",
    "          fei[np.array([('planet' in str(f)) for f in fei['comment']])].iterrows(),\n",
    "          vet[np.array([('planet' in str(f)) for f in vet['comment']])].iterrows()\n",
    "          ]:\n",
    "    for el in cl:\n",
    "        probplanet_list.append(el[1]) # this is a stupid pandas iterator thing\n",
    "        probplanet_kicids.append(int(el[1]['kicid']))"
   ]
  },
  {
   "cell_type": "code",
   "execution_count": 5,
   "metadata": {
    "collapsed": false
   },
   "outputs": [
    {
     "data": {
      "text/html": [
       "<div>\n",
       "<table border=\"1\" class=\"dataframe\">\n",
       "  <thead>\n",
       "    <tr style=\"text-align: right;\">\n",
       "      <th></th>\n",
       "      <th>comment</th>\n",
       "      <th>human_label</th>\n",
       "      <th>kicid</th>\n",
       "    </tr>\n",
       "  </thead>\n",
       "  <tbody>\n",
       "    <tr>\n",
       "      <th>19</th>\n",
       "      <td>maybe planet</td>\n",
       "      <td>NaN</td>\n",
       "      <td>3245776</td>\n",
       "    </tr>\n",
       "    <tr>\n",
       "      <th>277</th>\n",
       "      <td>NaN</td>\n",
       "      <td>dip</td>\n",
       "      <td>5025261</td>\n",
       "    </tr>\n",
       "    <tr>\n",
       "      <th>24</th>\n",
       "      <td>planet(!)</td>\n",
       "      <td>NaN</td>\n",
       "      <td>5302006</td>\n",
       "    </tr>\n",
       "    <tr>\n",
       "      <th>488</th>\n",
       "      <td>NaN</td>\n",
       "      <td>dip</td>\n",
       "      <td>5642620</td>\n",
       "    </tr>\n",
       "    <tr>\n",
       "      <th>327</th>\n",
       "      <td>NaN</td>\n",
       "      <td>dip</td>\n",
       "      <td>5881838</td>\n",
       "    </tr>\n",
       "  </tbody>\n",
       "</table>\n",
       "</div>"
      ],
      "text/plain": [
       "          comment human_label    kicid\n",
       "19   maybe planet         NaN  3245776\n",
       "277           NaN         dip  5025261\n",
       "24      planet(!)         NaN  5302006\n",
       "488           NaN         dip  5642620\n",
       "327           NaN         dip  5881838"
      ]
     },
     "execution_count": 5,
     "metadata": {},
     "output_type": "execute_result"
    }
   ],
   "source": [
    "outdf = pd.DataFrame(probplanet_list)\n",
    "outind = pd.DataFrame(probplanet_list).duplicated('kicid', keep='last')\n",
    "outdf = outdf[~outind]\n",
    "outdf.sort_values('kicid').head()"
   ]
  },
  {
   "cell_type": "code",
   "execution_count": 6,
   "metadata": {
    "collapsed": false
   },
   "outputs": [
    {
     "data": {
      "text/plain": [
       "35"
      ]
     },
     "execution_count": 6,
     "metadata": {},
     "output_type": "execute_result"
    }
   ],
   "source": [
    "len(outdf)"
   ]
  },
  {
   "cell_type": "markdown",
   "metadata": {},
   "source": [
    "make \"interesting object\" list"
   ]
  },
  {
   "cell_type": "code",
   "execution_count": 7,
   "metadata": {
    "collapsed": false
   },
   "outputs": [],
   "source": [
    "obj_list = []\n",
    "obj_kicids = []\n",
    "\n",
    "for co in [first[first['human_label']=='maybe_dip'].iterrows(),\n",
    "           second[second['human_label']=='maybe_dip'].iterrows(),\n",
    "          fei[np.array([('planet' not in str(f)) for f in fei['comment']])].iterrows(),\n",
    "          vet[np.array([('planet' not in str(f)) for f in vet['comment']])].iterrows()\n",
    "          ]:\n",
    "    for el in co:\n",
    "        obj_list.append(el[1]) # this is a stupid pandas iterator thing\n",
    "        obj_kicids.append(int(el[1]['kicid']))"
   ]
  },
  {
   "cell_type": "code",
   "execution_count": 8,
   "metadata": {
    "collapsed": false
   },
   "outputs": [
    {
     "data": {
      "text/html": [
       "<div>\n",
       "<table border=\"1\" class=\"dataframe\">\n",
       "  <thead>\n",
       "    <tr style=\"text-align: right;\">\n",
       "      <th></th>\n",
       "      <th>comment</th>\n",
       "      <th>human_label</th>\n",
       "      <th>kicid</th>\n",
       "    </tr>\n",
       "  </thead>\n",
       "  <tbody>\n",
       "    <tr>\n",
       "      <th>14</th>\n",
       "      <td>NaN</td>\n",
       "      <td>NaN</td>\n",
       "      <td>2449084</td>\n",
       "    </tr>\n",
       "    <tr>\n",
       "      <th>15</th>\n",
       "      <td>NaN</td>\n",
       "      <td>NaN</td>\n",
       "      <td>2557430</td>\n",
       "    </tr>\n",
       "    <tr>\n",
       "      <th>16</th>\n",
       "      <td>NaN</td>\n",
       "      <td>NaN</td>\n",
       "      <td>2695740</td>\n",
       "    </tr>\n",
       "    <tr>\n",
       "      <th>108</th>\n",
       "      <td>NaN</td>\n",
       "      <td>maybe_dip</td>\n",
       "      <td>2717141</td>\n",
       "    </tr>\n",
       "    <tr>\n",
       "      <th>17</th>\n",
       "      <td>NaN</td>\n",
       "      <td>NaN</td>\n",
       "      <td>2719436</td>\n",
       "    </tr>\n",
       "  </tbody>\n",
       "</table>\n",
       "</div>"
      ],
      "text/plain": [
       "    comment human_label    kicid\n",
       "14      NaN         NaN  2449084\n",
       "15      NaN         NaN  2557430\n",
       "16      NaN         NaN  2695740\n",
       "108     NaN   maybe_dip  2717141\n",
       "17      NaN         NaN  2719436"
      ]
     },
     "execution_count": 8,
     "metadata": {},
     "output_type": "execute_result"
    }
   ],
   "source": [
    "objdf = pd.DataFrame(obj_list)\n",
    "objind = pd.DataFrame(obj_list).duplicated('kicid', keep='last')\n",
    "objdf = objdf[~objind]\n",
    "objdf.sort_values('kicid').head()"
   ]
  },
  {
   "cell_type": "code",
   "execution_count": 9,
   "metadata": {
    "collapsed": false
   },
   "outputs": [
    {
     "data": {
      "text/plain": [
       "189"
      ]
     },
     "execution_count": 9,
     "metadata": {},
     "output_type": "execute_result"
    }
   ],
   "source": [
    "len(objdf)"
   ]
  },
  {
   "cell_type": "markdown",
   "metadata": {},
   "source": [
    "OK. A large number the candidates these lists will be BS (i.e. they'll disappear given improvements).\n",
    "\n",
    "Let's go through them again in the vet plots and cull."
   ]
  },
  {
   "cell_type": "code",
   "execution_count": 10,
   "metadata": {
    "collapsed": true
   },
   "outputs": [],
   "source": [
    "outdf.to_csv('../results/real_search/merged_cand_lists/170714_merged_dips_and_planets.csv', index=False)\n",
    "objdf.to_csv('../results/real_search/merged_cand_lists/170714_merged_objs.csv', index=False)"
   ]
  },
  {
   "cell_type": "code",
   "execution_count": 11,
   "metadata": {
    "collapsed": false
   },
   "outputs": [
    {
     "data": {
      "text/html": [
       "<div>\n",
       "<table border=\"1\" class=\"dataframe\">\n",
       "  <thead>\n",
       "    <tr style=\"text-align: right;\">\n",
       "      <th></th>\n",
       "      <th>comment</th>\n",
       "      <th>human_label</th>\n",
       "      <th>kicid</th>\n",
       "    </tr>\n",
       "  </thead>\n",
       "  <tbody>\n",
       "    <tr>\n",
       "      <th>32</th>\n",
       "      <td>NaN</td>\n",
       "      <td>dip</td>\n",
       "      <td>7515679</td>\n",
       "    </tr>\n",
       "    <tr>\n",
       "      <th>43</th>\n",
       "      <td>NaN</td>\n",
       "      <td>dip</td>\n",
       "      <td>9843451</td>\n",
       "    </tr>\n",
       "    <tr>\n",
       "      <th>273</th>\n",
       "      <td>NaN</td>\n",
       "      <td>dip</td>\n",
       "      <td>6791604</td>\n",
       "    </tr>\n",
       "    <tr>\n",
       "      <th>320</th>\n",
       "      <td>NaN</td>\n",
       "      <td>dip</td>\n",
       "      <td>5983351</td>\n",
       "    </tr>\n",
       "    <tr>\n",
       "      <th>0</th>\n",
       "      <td>NaN</td>\n",
       "      <td>dip</td>\n",
       "      <td>9790965</td>\n",
       "    </tr>\n",
       "  </tbody>\n",
       "</table>\n",
       "</div>"
      ],
      "text/plain": [
       "    comment human_label    kicid\n",
       "32      NaN         dip  7515679\n",
       "43      NaN         dip  9843451\n",
       "273     NaN         dip  6791604\n",
       "320     NaN         dip  5983351\n",
       "0       NaN         dip  9790965"
      ]
     },
     "execution_count": 11,
     "metadata": {},
     "output_type": "execute_result"
    }
   ],
   "source": [
    "alldf = pd.concat([outdf, objdf])\n",
    "alldf.head()"
   ]
  },
  {
   "cell_type": "code",
   "execution_count": 12,
   "metadata": {
    "collapsed": true
   },
   "outputs": [],
   "source": [
    "alldf = alldf.sort_values('kicid')\n",
    "\n",
    "allind = alldf.duplicated('kicid', keep='last')\n",
    "\n",
    "alldf[~allind].to_csv('../results/real_search/merged_cand_lists/170714_all_flagged.csv', index=False)"
   ]
  },
  {
   "cell_type": "code",
   "execution_count": 13,
   "metadata": {
    "collapsed": true
   },
   "outputs": [],
   "source": [
    "import os"
   ]
  },
  {
   "cell_type": "code",
   "execution_count": 16,
   "metadata": {
    "collapsed": false
   },
   "outputs": [
    {
     "name": "stdout",
     "output_type": "stream",
     "text": [
      "2695740 failed\n",
      "7733540 failed\n",
      "7831363 failed\n",
      "8822555 failed\n",
      "11304987 failed\n"
     ]
    }
   ],
   "source": [
    "for kicid in np.array(alldf['kicid']):\n",
    "    \n",
    "    if os.path.exists('/home/luke/Dropbox/proj/cbp/results/real_search/170714_all_flagged_symlinks/'+str(kicid)+'.png'):\n",
    "        continue\n",
    "    \n",
    "    try:\n",
    "        os.symlink('/home/luke/Dropbox/proj/cbp/results/vet_bls/'+str(kicid)+'.png',\n",
    "                  '/home/luke/Dropbox/proj/cbp/results/real_search/170714_all_flagged_symlinks/'+str(kicid)+'.png')\n",
    "    except:\n",
    "        print('{:d} failed'.format(kicid))\n",
    "    \n",
    "    "
   ]
  },
  {
   "cell_type": "markdown",
   "metadata": {},
   "source": [
    "We might assume that these are all cases that didn't make the SNR > 3 cut in improved round 2 (170710) run of BLS.\n",
    "\n",
    "Check by looking at original dipsearch plots individually."
   ]
  },
  {
   "cell_type": "markdown",
   "metadata": {},
   "source": [
    "* 502561 is noise\n",
    "I will comment on any that are not noise:\n",
    "* 2695740 had no dipsearchplot, originally...\n",
    "* 7733540 definitely had some interesting dips in the first round. (Seen in relative flux mostly). In round 2 they were all low SNR, and the single >3 SNR recovery was a harmonic.\n",
    "* 7831363 harmonic\n",
    "* 8822555 not convinceable\n",
    "* 11304987 all harmonics"
   ]
  },
  {
   "cell_type": "markdown",
   "metadata": {},
   "source": [
    "So making the vet plot for 7733540, otherwise can parse from symlinks."
   ]
  }
 ],
 "metadata": {
  "anaconda-cloud": {},
  "kernelspec": {
   "display_name": "Python [conda env:sci]",
   "language": "python",
   "name": "conda-env-sci-py"
  },
  "language_info": {
   "codemirror_mode": {
    "name": "ipython",
    "version": 3
   },
   "file_extension": ".py",
   "mimetype": "text/x-python",
   "name": "python",
   "nbconvert_exporter": "python",
   "pygments_lexer": "ipython3",
   "version": "3.5.2"
  }
 },
 "nbformat": 4,
 "nbformat_minor": 1
}
