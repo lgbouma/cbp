{
 "cells": [
  {
   "cell_type": "code",
   "execution_count": 1,
   "metadata": {
    "collapsed": false
   },
   "outputs": [
    {
     "data": {
      "text/plain": [
       "'/home/luke/Dropbox/proj/cbp/notebooks'"
      ]
     },
     "execution_count": 1,
     "metadata": {},
     "output_type": "execute_result"
    }
   ],
   "source": [
    "pwd"
   ]
  },
  {
   "cell_type": "code",
   "execution_count": 2,
   "metadata": {
    "collapsed": true
   },
   "outputs": [],
   "source": [
    "from astropy.io import ascii\n",
    "import numpy as np, matplotlib.pyplot as plt\n",
    "%matplotlib inline\n",
    "\n",
    "keb_path = '../data/kepler_eb_catalog_v3.csv'\n",
    "cols = 'KIC,period,period_err,bjd0,bjd0_err,morph,GLon,GLat,kmag,Teff,SC'\n",
    "cols = tuple(cols.split(','))\n",
    "\n",
    "tab = ascii.read(keb_path)\n",
    "currentcols = tab.colnames\n",
    "for ix, col in enumerate(cols):\n",
    "    tab.rename_column(currentcols[ix], col)\n",
    "tab.remove_column('col12') # remnant of import\n",
    "\n"
   ]
  },
  {
   "cell_type": "code",
   "execution_count": 3,
   "metadata": {
    "collapsed": false
   },
   "outputs": [
    {
     "data": {
      "text/plain": [
       "1016"
      ]
     },
     "execution_count": 3,
     "metadata": {},
     "output_type": "execute_result"
    }
   ],
   "source": [
    "len(tab[tab['morph']>0.6])"
   ]
  },
  {
   "cell_type": "code",
   "execution_count": 4,
   "metadata": {
    "collapsed": false
   },
   "outputs": [
    {
     "data": {
      "text/html": [
       "&lt;Table masked=True length=5&gt;\n",
       "<table id=\"table139980087763184\" class=\"table-striped table-bordered table-condensed\">\n",
       "<thead><tr><th>KIC</th><th>period</th><th>period_err</th><th>bjd0</th><th>bjd0_err</th><th>morph</th><th>GLon</th><th>GLat</th><th>kmag</th><th>Teff</th><th>SC</th></tr></thead>\n",
       "<thead><tr><th>int64</th><th>float64</th><th>float64</th><th>float64</th><th>float64</th><th>float64</th><th>float64</th><th>float64</th><th>float64</th><th>float64</th><th>str5</th></tr></thead>\n",
       "<tr><td>10417986</td><td>0.0737309</td><td>0.0</td><td>55000.027476</td><td>0.004231</td><td>0.99</td><td>81.039</td><td>11.082</td><td>9.128</td><td>-1.0</td><td>True</td></tr>\n",
       "<tr><td>8912468</td><td>0.094838</td><td>0.0</td><td>54953.576945</td><td>0.005326</td><td>0.98</td><td>80.1095</td><td>7.8882</td><td>11.751</td><td>6194.0</td><td>False</td></tr>\n",
       "<tr><td>8758716</td><td>0.1072049</td><td>0.0</td><td>54953.672989</td><td>0.006197</td><td>1.0</td><td>77.7478</td><td>11.6565</td><td>13.531</td><td>-1.0</td><td>False</td></tr>\n",
       "<tr><td>10855535</td><td>0.1127824</td><td>0.0</td><td>54964.629315</td><td>0.006374</td><td>0.99</td><td>79.3949</td><td>15.9212</td><td>13.87</td><td>7555.0</td><td>False</td></tr>\n",
       "<tr><td>9472174</td><td>0.1257653</td><td>1e-07</td><td>54953.643178</td><td>0.018318</td><td>0.78</td><td>79.0187</td><td>11.6745</td><td>12.264</td><td>10645.0</td><td>True</td></tr>\n",
       "</table>"
      ],
      "text/plain": [
       "<Table masked=True length=5>\n",
       "  KIC      period  period_err     bjd0     ...   GLat    kmag    Teff    SC \n",
       " int64    float64   float64     float64    ... float64 float64 float64  str5\n",
       "-------- --------- ---------- ------------ ... ------- ------- ------- -----\n",
       "10417986 0.0737309        0.0 55000.027476 ...  11.082   9.128    -1.0  True\n",
       " 8912468  0.094838        0.0 54953.576945 ...  7.8882  11.751  6194.0 False\n",
       " 8758716 0.1072049        0.0 54953.672989 ... 11.6565  13.531    -1.0 False\n",
       "10855535 0.1127824        0.0 54964.629315 ... 15.9212   13.87  7555.0 False\n",
       " 9472174 0.1257653      1e-07 54953.643178 ... 11.6745  12.264 10645.0  True"
      ]
     },
     "execution_count": 4,
     "metadata": {},
     "output_type": "execute_result"
    }
   ],
   "source": [
    "tab[tab['morph']>0.6][:5]"
   ]
  },
  {
   "cell_type": "code",
   "execution_count": 5,
   "metadata": {
    "collapsed": true
   },
   "outputs": [],
   "source": [
    "import pandas as pd\n",
    "periods = pd.Series(np.log10(tab[tab['morph']>0.6]['period']))"
   ]
  },
  {
   "cell_type": "code",
   "execution_count": 6,
   "metadata": {
    "collapsed": false
   },
   "outputs": [
    {
     "data": {
      "image/png": "[encoded data removed]",
      "text/plain": [
       "<matplotlib.figure.Figure at 0x7f4fc8c17e48>"
      ]
     },
     "metadata": {},
     "output_type": "display_data"
    }
   ],
   "source": [
    "periods.plot.hist()\n",
    "ax = plt.gca()\n",
    "ax.set(xlabel='log10(period)', title='KEBC with morph>0.6');"
   ]
  },
  {
   "cell_type": "code",
   "execution_count": 7,
   "metadata": {
    "collapsed": false
   },
   "outputs": [
    {
     "data": {
      "text/plain": [
       "count    1016.000000\n",
       "mean       -0.249640\n",
       "std         0.333767\n",
       "min        -1.132350\n",
       "25%        -0.490123\n",
       "50%        -0.361349\n",
       "75%        -0.085700\n",
       "max         1.163984\n",
       "dtype: float64"
      ]
     },
     "execution_count": 7,
     "metadata": {},
     "output_type": "execute_result"
    }
   ],
   "source": [
    "periods.describe()"
   ]
  },
  {
   "cell_type": "markdown",
   "metadata": {},
   "source": [
    "OK. Kind of obnoxiously it looks like the data isn't available via wget scripts??"
   ]
  },
  {
   "cell_type": "code",
   "execution_count": 8,
   "metadata": {
    "collapsed": false
   },
   "outputs": [
    {
     "data": {
      "text/html": [
       "&lt;MaskedColumn name=&apos;KIC&apos; dtype=&apos;int64&apos; length=1016&gt;\n",
       "<table>\n",
       "<tr><td>10417986</td></tr>\n",
       "<tr><td>8912468</td></tr>\n",
       "<tr><td>8758716</td></tr>\n",
       "<tr><td>10855535</td></tr>\n",
       "<tr><td>9472174</td></tr>\n",
       "<tr><td>9612468</td></tr>\n",
       "<tr><td>6613627</td></tr>\n",
       "<tr><td>5302006</td></tr>\n",
       "<tr><td>9898401</td></tr>\n",
       "<tr><td>7375612</td></tr>\n",
       "<tr><td>5872696</td></tr>\n",
       "<tr><td>7767774</td></tr>\n",
       "<tr><td>...</td></tr>\n",
       "<tr><td>9848190</td></tr>\n",
       "<tr><td>8432040</td></tr>\n",
       "<tr><td>7515679</td></tr>\n",
       "<tr><td>6443538</td></tr>\n",
       "<tr><td>9489411</td></tr>\n",
       "<tr><td>11973705</td></tr>\n",
       "<tr><td>5197256</td></tr>\n",
       "<tr><td>5988465</td></tr>\n",
       "<tr><td>8906676</td></tr>\n",
       "<tr><td>9821078</td></tr>\n",
       "<tr><td>11671660</td></tr>\n",
       "<tr><td>11616594</td></tr>\n",
       "</table>"
      ],
      "text/plain": [
       "<MaskedColumn name='KIC' dtype='int64' length=1016>\n",
       "10417986\n",
       " 8912468\n",
       " 8758716\n",
       "10855535\n",
       " 9472174\n",
       " 9612468\n",
       " 6613627\n",
       " 5302006\n",
       " 9898401\n",
       " 7375612\n",
       " 5872696\n",
       " 7767774\n",
       "     ...\n",
       " 9848190\n",
       " 8432040\n",
       " 7515679\n",
       " 6443538\n",
       " 9489411\n",
       "11973705\n",
       " 5197256\n",
       " 5988465\n",
       " 8906676\n",
       " 9821078\n",
       "11671660\n",
       "11616594"
      ]
     },
     "execution_count": 8,
     "metadata": {},
     "output_type": "execute_result"
    }
   ],
   "source": [
    "desiredEBs = tab[tab['morph']>0.6]\n",
    "desiredEBs['KIC']"
   ]
  },
  {
   "cell_type": "markdown",
   "metadata": {},
   "source": [
    "All from LONG CADENCE data. \n",
    "\n",
    "Links.\n",
    "DATA:\n",
    "* LC data: http://keplerebs.villanova.edu/data/?k=8912468.00&cadence=lc&data=data\n",
    "* polyfit: http://keplerebs.villanova.edu/data/?k=10417986.00&cadence=lc&data=pf\n",
    "* lomb scargle periodogram: http://keplerebs.villanova.edu/data/?k=10417986.00&cadence=lc&data=freq\n",
    "PLOTS:\n",
    "* raw flux: http://keplerebs.villanova.edu/plots/?k=10417986.00&cadence=lc&kind=raw\n",
    "* detrended flux: http://keplerebs.villanova.edu/plots/?k=10417986.00&cadence=lc&kind=dtr\n",
    "* polyfit: http://keplerebs.villanova.edu/plots/?k=10417986.00&cadence=lc&kind=pf\n",
    "* eclipse timing variation plots: http://keplerebs.villanova.edu/plots/?k=10417986.00&cadence=lc&kind=etv\n"
   ]
  },
  {
   "cell_type": "code",
   "execution_count": 9,
   "metadata": {
    "collapsed": false
   },
   "outputs": [],
   "source": [
    "import requests"
   ]
  },
  {
   "cell_type": "code",
   "execution_count": 10,
   "metadata": {
    "collapsed": false
   },
   "outputs": [],
   "source": [
    "ebID = np.array(desiredEBs['KIC'])[0]"
   ]
  },
  {
   "cell_type": "code",
   "execution_count": 11,
   "metadata": {
    "collapsed": false
   },
   "outputs": [
    {
     "data": {
      "text/plain": [
       "10417986"
      ]
     },
     "execution_count": 11,
     "metadata": {},
     "output_type": "execute_result"
    }
   ],
   "source": [
    "ebID"
   ]
  },
  {
   "cell_type": "code",
   "execution_count": 12,
   "metadata": {
    "collapsed": false
   },
   "outputs": [],
   "source": [
    "rawdatal = 'http://keplerebs.villanova.edu/data/?k='+str(ebID)+'.00&cadence=lc&data=data'"
   ]
  },
  {
   "cell_type": "code",
   "execution_count": 13,
   "metadata": {
    "collapsed": false
   },
   "outputs": [
    {
     "data": {
      "text/plain": [
       "'http://keplerebs.villanova.edu/data/?k=10417986.00&cadence=lc&data=data'"
      ]
     },
     "execution_count": 13,
     "metadata": {},
     "output_type": "execute_result"
    }
   ],
   "source": [
    "rawdatal"
   ]
  },
  {
   "cell_type": "code",
   "execution_count": 17,
   "metadata": {
    "collapsed": false
   },
   "outputs": [],
   "source": [
    "r = requests.get(rawdatal)\n",
    "\n",
    "with open('foo.bar', 'wb') as data:\n",
    "    data.write(r.content)\n"
   ]
  },
  {
   "cell_type": "code",
   "execution_count": 21,
   "metadata": {
    "collapsed": false
   },
   "outputs": [
    {
     "name": "stdout",
     "output_type": "stream",
     "text": [
      "# bjd\tphase\traw_flux\traw_err\tcorr_flux\tcorr_err\tdtr_flux\tdtr_err\r\n",
      "54953.53860257\t-0.07297153\t0.952938\t0.000037\t0.968938\t0.000037\t0.902509\t0.000035\r\n",
      "# bjd\tphase\traw_flux\traw_err\tcorr_flux\tcorr_err\tdtr_flux\tdtr_err\r\n",
      "54953.55903687\t-0.07157073\t0.960310\t0.000037\t0.976474\t0.000037\t0.909491\t0.000035\r\n",
      "# bjd\tphase\traw_flux\traw_err\tcorr_flux\tcorr_err\tdtr_flux\tdtr_err\r\n",
      "54953.57947108\t-0.07016994\t0.959771\t0.000037\t0.975905\t0.000037\t0.908981\t0.000035\r\n",
      "# bjd\tphase\traw_flux\traw_err\tcorr_flux\tcorr_err\tdtr_flux\tdtr_err\r\n",
      "54953.59990548\t-0.06876914\t0.958563\t0.000037\t0.974708\t0.000037\t0.907837\t0.000035\r\n",
      "# bjd\tphase\traw_flux\traw_err\tcorr_flux\tcorr_err\tdtr_flux\tdtr_err\r\n",
      "54953.62033979\t-0.06736834\t0.957668\t0.000037\t0.973739\t0.000037\t0.906989\t0.000035\r\n"
     ]
    }
   ],
   "source": [
    "! head foo.bar"
   ]
  },
  {
   "cell_type": "code",
   "execution_count": 22,
   "metadata": {
    "collapsed": false
   },
   "outputs": [
    {
     "name": "stdout",
     "output_type": "stream",
     "text": [
      "130622\r\n"
     ]
    }
   ],
   "source": [
    "! cat foo.bar | wc -l"
   ]
  },
  {
   "cell_type": "markdown",
   "metadata": {},
   "source": [
    "Ok, so it looks like that's how to get the data. The plots have slightly different urls, but we can put this all together now.\n",
    "\n",
    "# The download script (used 170206)"
   ]
  },
  {
   "cell_type": "code",
   "execution_count": 38,
   "metadata": {
    "collapsed": false
   },
   "outputs": [],
   "source": [
    "for ebID in desiredEBs['KIC']:\n",
    "    rawdatal = 'http://keplerebs.villanova.edu/data/?k='+str(ebID)+'.00&cadence=lc&data=data'\n",
    "    pfdatal = 'http://keplerebs.villanova.edu/data/?k='+str(ebID)+'.00&cadence=lc&data=pf'\n",
    "    periodogramdatal = 'http://keplerebs.villanova.edu/data/?k='+str(ebID)+'.00&cadence=lc&data=freq'\n",
    "    datalinks = [rawdatal, pfdatal, periodogramdatal]\n",
    "    \n",
    "    for ix, dl in enumerate(datalinks):\n",
    "        \n",
    "        r = requests.get(dl)\n",
    "        if ix == 0:\n",
    "            subd = 'raw'\n",
    "        elif ix == 1:\n",
    "            subd = 'pf'\n",
    "        elif ix == 2:\n",
    "            subd = 'freq'\n",
    "        \n",
    "        with open('../data/keplerebcat_LCs/data/'+subd+'/'+str(ebID)+'.'+subd, 'wb') as data:\n",
    "            data.write(r.content)\n",
    "    \n",
    "    #plots have required 8 character KIC ID lengths, with zero blanks beforehand\n",
    "    pullID = str(ebID)\n",
    "    while len(pullID)<8:\n",
    "        pullID = '0' + str(ebID)\n",
    "  \n",
    "\n",
    "    rawplotl = 'http://keplerebs.villanova.edu/includes/'+str(pullID)+'.00.lc.raw.png'\n",
    "    dtrplotl = 'http://keplerebs.villanova.edu/includes/'+str(pullID)+'.00.lc.dtr.png'\n",
    "    pfplotl = 'http://keplerebs.villanova.edu/includes/'+str(pullID)+'.00.lc.pf.png'\n",
    "    etvplotl = 'http://keplerebs.villanova.edu/includes/'+str(pullID)+'.00.lc.etv.png'\n",
    "    plotlinks = [rawplotl, dtrplotl, pfplotl, etvplotl]\n",
    "\n",
    "    for ix, dl in enumerate(plotlinks):\n",
    "        \n",
    "        r = requests.get(dl)\n",
    "        if ix == 0:\n",
    "            subd = 'raw'\n",
    "        elif ix == 1:\n",
    "            subd = 'dtr'\n",
    "        elif ix == 2:\n",
    "            subd = 'pf'\n",
    "        elif ix == 3:\n",
    "            subd = 'etv'\n",
    "        \n",
    "        with open('../data/keplerebcat_LCs/plots/'+subd+'/'+str(ebID)+'.'+subd+'.png', 'wb') as data:\n",
    "            data.write(r.content)\n",
    "    \n",
    "    \n",
    "    "
   ]
  },
  {
   "cell_type": "code",
   "execution_count": 39,
   "metadata": {
    "collapsed": false
   },
   "outputs": [
    {
     "name": "stdout",
     "output_type": "stream",
     "text": [
      "/home/luke/Dropbox/proj/cbp/notebooks\r\n"
     ]
    }
   ],
   "source": [
    "! pwd"
   ]
  },
  {
   "cell_type": "code",
   "execution_count": 40,
   "metadata": {
    "collapsed": false
   },
   "outputs": [
    {
     "name": "stdout",
     "output_type": "stream",
     "text": [
      "1016\r\n"
     ]
    }
   ],
   "source": [
    "! ls ../data/keplerebcat_LCs/data/raw | wc -l"
   ]
  },
  {
   "cell_type": "code",
   "execution_count": 41,
   "metadata": {
    "collapsed": false
   },
   "outputs": [
    {
     "data": {
      "text/plain": [
       "1016"
      ]
     },
     "execution_count": 41,
     "metadata": {},
     "output_type": "execute_result"
    }
   ],
   "source": [
    "len(desiredEBs)"
   ]
  },
  {
   "cell_type": "markdown",
   "metadata": {},
   "source": [
    "So download complete."
   ]
  }
 ],
 "metadata": {
  "anaconda-cloud": {},
  "kernelspec": {
   "display_name": "Python [conda env:sci]",
   "language": "python",
   "name": "conda-env-sci-py"
  },
  "language_info": {
   "codemirror_mode": {
    "name": "ipython",
    "version": 3
   },
   "file_extension": ".py",
   "mimetype": "text/x-python",
   "name": "python",
   "nbconvert_exporter": "python",
   "pygments_lexer": "ipython3",
   "version": "3.5.2"
  }
 },
 "nbformat": 4,
 "nbformat_minor": 1
}
