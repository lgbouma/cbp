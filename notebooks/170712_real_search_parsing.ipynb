{
 "cells": [
  {
   "cell_type": "markdown",
   "metadata": {},
   "source": [
    "Compare lists of maybes and dips from 170705 and 170410 run"
   ]
  },
  {
   "cell_type": "code",
   "execution_count": 1,
   "metadata": {
    "collapsed": true
   },
   "outputs": [],
   "source": [
    "import pandas as pd\n",
    "import numpy as np\n",
    "\n",
    "first_path = '../results/real_search/170410_candidates_pass_1/human_labelled_candidates.txt'\n",
    "first = pd.read_csv(first_path, names=['kicid','human_label'], \n",
    "                    delimiter=', ', engine='python') \n",
    "second_path = '../results/real_search/human_labelled_candidates.txt'\n",
    "second = pd.read_csv(second_path, names=['kicid','human_label'], \n",
    "                    delimiter=', ', engine='python') "
   ]
  },
  {
   "cell_type": "code",
   "execution_count": 2,
   "metadata": {
    "collapsed": false
   },
   "outputs": [
    {
     "name": "stdout",
     "output_type": "stream",
     "text": [
      "170410 N labelled dip: 11\n",
      "170410 N labelled maybe_dip: 39\n",
      "170410 N labelled wtf: 0\n",
      "170705 N labelled dip: 26\n",
      "170705 N labelled maybe_dip: 84\n",
      "170705 N labelled wtf: 16\n"
     ]
    }
   ],
   "source": [
    "for datestr, df in zip(['170410', '170705'], [first, second]):\n",
    "    print('{:s} N labelled dip: {:d}'.format(\n",
    "        datestr,len(df[df['human_label']=='dip'])))\n",
    "    print('{:s} N labelled maybe_dip: {:d}'.format(\n",
    "        datestr,len(df[df['human_label']=='maybe_dip'])))\n",
    "    print('{:s} N labelled wtf: {:d}'.format(\n",
    "        datestr,len(df[df['human_label']=='wtf'])))"
   ]
  },
  {
   "cell_type": "code",
   "execution_count": 3,
   "metadata": {
    "collapsed": false
   },
   "outputs": [
    {
     "data": {
      "text/plain": [
       "1       6144827\n",
       "8       8197406\n",
       "10      7871200\n",
       "12      5302006\n",
       "24     11013201\n",
       "32      7515679\n",
       "43      9843451\n",
       "99      9480977\n",
       "273     6791604\n",
       "320     5983351\n",
       "372     7889628\n",
       "Name: kicid, dtype: int64"
      ]
     },
     "execution_count": 3,
     "metadata": {},
     "output_type": "execute_result"
    }
   ],
   "source": [
    "first[first['human_label']=='dip']['kicid']"
   ]
  },
  {
   "cell_type": "code",
   "execution_count": 4,
   "metadata": {
    "collapsed": false
   },
   "outputs": [
    {
     "data": {
      "text/plain": [
       "0       9790965\n",
       "1       6144827\n",
       "2      11013201\n",
       "5       8197406\n",
       "9       7871200\n",
       "43      5302006\n",
       "68     11303811\n",
       "116     9480977\n",
       "128    11811454\n",
       "139     8495415\n",
       "141     8330092\n",
       "221     9954225\n",
       "243     7941050\n",
       "277     5025261\n",
       "300    11135978\n",
       "327     5881838\n",
       "345    10934755\n",
       "458     7941635\n",
       "488     5642620\n",
       "531     9788113\n",
       "562     9788457\n",
       "603     8587078\n",
       "649     9705459\n",
       "713     9700181\n",
       "737     7889628\n",
       "782    11819135\n",
       "Name: kicid, dtype: int64"
      ]
     },
     "execution_count": 4,
     "metadata": {},
     "output_type": "execute_result"
    }
   ],
   "source": [
    "second[second['human_label']=='dip']['kicid']"
   ]
  },
  {
   "cell_type": "markdown",
   "metadata": {},
   "source": [
    "Which ones that were originally labelled dips are still?"
   ]
  },
  {
   "cell_type": "code",
   "execution_count": 5,
   "metadata": {
    "collapsed": false
   },
   "outputs": [
    {
     "data": {
      "text/plain": [
       "1       6144827\n",
       "8       8197406\n",
       "10      7871200\n",
       "12      5302006\n",
       "24     11013201\n",
       "99      9480977\n",
       "372     7889628\n",
       "Name: kicid, dtype: int64"
      ]
     },
     "execution_count": 5,
     "metadata": {},
     "output_type": "execute_result"
    }
   ],
   "source": [
    "m = np.in1d(first[first['human_label']=='dip']['kicid'],\n",
    "        second[second['human_label']=='dip']['kicid'])\n",
    "first[first['human_label']=='dip']['kicid'][m]"
   ]
  },
  {
   "cell_type": "code",
   "execution_count": 6,
   "metadata": {
    "collapsed": false
   },
   "outputs": [
    {
     "data": {
      "text/plain": [
       "7"
      ]
     },
     "execution_count": 6,
     "metadata": {},
     "output_type": "execute_result"
    }
   ],
   "source": [
    "len(first[first['human_label']=='dip']['kicid'][m])"
   ]
  },
  {
   "cell_type": "markdown",
   "metadata": {},
   "source": [
    "And which are not?"
   ]
  },
  {
   "cell_type": "code",
   "execution_count": 7,
   "metadata": {
    "collapsed": false
   },
   "outputs": [
    {
     "data": {
      "text/plain": [
       "32     7515679\n",
       "43     9843451\n",
       "273    6791604\n",
       "320    5983351\n",
       "Name: kicid, dtype: int64"
      ]
     },
     "execution_count": 7,
     "metadata": {},
     "output_type": "execute_result"
    }
   ],
   "source": [
    "m = np.in1d(first[first['human_label']=='dip']['kicid'],\n",
    "        second[second['human_label']=='dip']['kicid'])\n",
    "first[first['human_label']=='dip']['kicid'][~m]"
   ]
  },
  {
   "cell_type": "markdown",
   "metadata": {},
   "source": [
    "7515679 is a harmonic of EB period\n",
    "\n",
    "9843451 seems like noise from original dipsearchplot (bumps as big as dip -- higher power harmonic peak is negative)\n",
    "\n",
    "6791604 was identified b/c of the very big SNR per transit (not visible in the way I did dipsearchplot relative flux top panel...)\n",
    "\n",
    "5983351 should be a maybe"
   ]
  },
  {
   "cell_type": "code",
   "execution_count": 8,
   "metadata": {
    "collapsed": false
   },
   "outputs": [
    {
     "data": {
      "text/plain": [
       "43    9843451\n",
       "Name: kicid, dtype: int64"
      ]
     },
     "execution_count": 8,
     "metadata": {},
     "output_type": "execute_result"
    }
   ],
   "source": [
    "m = np.in1d(first[first['human_label']=='dip']['kicid'],\n",
    "        second[second['human_label']=='maybe_dip']['kicid'])\n",
    "first[first['human_label']=='dip']['kicid'][m]"
   ]
  },
  {
   "cell_type": "markdown",
   "metadata": {},
   "source": [
    "But 5983351 was labelled in round 2 as noise. I agree that the LCs make it look like it, but the BLS spectrum usually wouldn't give such a high power peak. Probably should have been flagged as a maybe.\n",
    "\n",
    "9843451 should really have been boosted from \"maybes\" to \"dips\" in round 2.\n",
    "\n",
    "I think this just indicates the importance of bringing in another vetter..."
   ]
  },
  {
   "cell_type": "markdown",
   "metadata": {},
   "source": [
    "# New \"dips\":"
   ]
  },
  {
   "cell_type": "code",
   "execution_count": 9,
   "metadata": {
    "collapsed": false
   },
   "outputs": [
    {
     "data": {
      "text/plain": [
       "0       9790965\n",
       "68     11303811\n",
       "128    11811454\n",
       "139     8495415\n",
       "141     8330092\n",
       "221     9954225\n",
       "243     7941050\n",
       "277     5025261\n",
       "300    11135978\n",
       "327     5881838\n",
       "345    10934755\n",
       "458     7941635\n",
       "488     5642620\n",
       "531     9788113\n",
       "562     9788457\n",
       "603     8587078\n",
       "649     9705459\n",
       "713     9700181\n",
       "782    11819135\n",
       "Name: kicid, dtype: int64"
      ]
     },
     "execution_count": 9,
     "metadata": {},
     "output_type": "execute_result"
    }
   ],
   "source": [
    "m = np.in1d(second[second['human_label']=='dip']['kicid'],\n",
    "           first[first['human_label']=='dip']['kicid'])\n",
    "second[second['human_label']=='dip']['kicid'][~m]"
   ]
  },
  {
   "cell_type": "code",
   "execution_count": null,
   "metadata": {
    "collapsed": true
   },
   "outputs": [],
   "source": []
  }
 ],
 "metadata": {
  "anaconda-cloud": {},
  "kernelspec": {
   "display_name": "Python [conda env:sci]",
   "language": "python",
   "name": "conda-env-sci-py"
  },
  "language_info": {
   "codemirror_mode": {
    "name": "ipython",
    "version": 3
   },
   "file_extension": ".py",
   "mimetype": "text/x-python",
   "name": "python",
   "nbconvert_exporter": "python",
   "pygments_lexer": "ipython3",
   "version": "3.5.2"
  }
 },
 "nbformat": 4,
 "nbformat_minor": 1
}
