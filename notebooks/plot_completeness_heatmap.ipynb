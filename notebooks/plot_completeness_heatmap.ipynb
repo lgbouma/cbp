{
 "cells": [
  {
   "cell_type": "code",
   "execution_count": 3,
   "metadata": {
    "collapsed": true
   },
   "outputs": [],
   "source": [
    "import pandas as pd, numpy as np\n",
    "import matplotlib.pyplot as plt\n",
    "%matplotlib inline\n",
    "\n",
    "fpath = '../results/injrecovresult/irresult_sap_top1.csv'\n",
    "df = pd.read_csv(fpath)"
   ]
  },
  {
   "cell_type": "code",
   "execution_count": 4,
   "metadata": {
    "collapsed": false
   },
   "outputs": [
    {
     "data": {
      "image/png": "[encoded data removed]",
      "text/plain": [
       "<matplotlib.figure.Figure at 0x7f51649b9278>"
      ]
     },
     "metadata": {},
     "output_type": "display_data"
    }
   ],
   "source": [
    "f, ax = plt.subplots()\n",
    "\n",
    "ax.scatter(df['P_inj'][df['foundinj']==True],\n",
    "           df['depth_inj'][df['foundinj']==True]/df['rms_biased'][df['foundinj']==True],\n",
    "           c='green', lw=0, alpha=0.9, marker='s')\n",
    "ax.scatter(df['P_inj'][df['foundinj']==False],\n",
    "           df['depth_inj'][df['foundinj']==False]/df['rms_biased'][df['foundinj']==False],\n",
    "           c='red', lw=0, alpha=0.9, marker='s')\n",
    "\n",
    "ax.set(xlabel='$P_\\mathrm{CBP}\\ [\\mathrm{days}]$',\n",
    "       ylabel='$\\delta/\\mathrm{RMS\\ (per\\ transit)}$',\n",
    "       xscale='log',\n",
    "       yscale='log')\n",
    "\n",
    "f.tight_layout()\n",
    "plt.show()"
   ]
  },
  {
   "cell_type": "code",
   "execution_count": 28,
   "metadata": {
    "collapsed": false
   },
   "outputs": [
    {
     "data": {
      "text/html": [
       "<div>\n",
       "<table border=\"1\" class=\"dataframe\">\n",
       "  <thead>\n",
       "    <tr style=\"text-align: right;\">\n",
       "      <th></th>\n",
       "      <th>found</th>\n",
       "      <th>SNR</th>\n",
       "      <th>P_inj</th>\n",
       "    </tr>\n",
       "  </thead>\n",
       "  <tbody>\n",
       "    <tr>\n",
       "      <th>0</th>\n",
       "      <td>1</td>\n",
       "      <td>1.566569</td>\n",
       "      <td>3.825723</td>\n",
       "    </tr>\n",
       "    <tr>\n",
       "      <th>1</th>\n",
       "      <td>1</td>\n",
       "      <td>1.633066</td>\n",
       "      <td>6.886792</td>\n",
       "    </tr>\n",
       "    <tr>\n",
       "      <th>2</th>\n",
       "      <td>0</td>\n",
       "      <td>0.762424</td>\n",
       "      <td>2.600830</td>\n",
       "    </tr>\n",
       "    <tr>\n",
       "      <th>3</th>\n",
       "      <td>0</td>\n",
       "      <td>0.141397</td>\n",
       "      <td>4.534708</td>\n",
       "    </tr>\n",
       "    <tr>\n",
       "      <th>4</th>\n",
       "      <td>0</td>\n",
       "      <td>3.437157</td>\n",
       "      <td>9.219064</td>\n",
       "    </tr>\n",
       "  </tbody>\n",
       "</table>\n",
       "</div>"
      ],
      "text/plain": [
       "   found       SNR     P_inj\n",
       "0      1  1.566569  3.825723\n",
       "1      1  1.633066  6.886792\n",
       "2      0  0.762424  2.600830\n",
       "3      0  0.141397  4.534708\n",
       "4      0  3.437157  9.219064"
      ]
     },
     "execution_count": 28,
     "metadata": {},
     "output_type": "execute_result"
    }
   ],
   "source": [
    "df[['found', 'SNR', 'P_inj']].head()"
   ]
  },
  {
   "cell_type": "code",
   "execution_count": 48,
   "metadata": {
    "collapsed": true
   },
   "outputs": [],
   "source": [
    "xgrid = np.logspace(-1,3,13)\n",
    "ygrid = np.logspace(-1,2,10)\n",
    "\n",
    "xbins = [(float(xgrid[i]), float(xgrid[i+1])) for i in range(len(xgrid)-1)]\n",
    "ybins = [(float(ygrid[i]), float(ygrid[i+1])) for i in range(len(ygrid)-1)]"
   ]
  },
  {
   "cell_type": "code",
   "execution_count": 49,
   "metadata": {
    "collapsed": false
   },
   "outputs": [
    {
     "data": {
      "text/plain": [
       "array([  1.00000000e-01,   2.15443469e-01,   4.64158883e-01,\n",
       "         1.00000000e+00,   2.15443469e+00,   4.64158883e+00,\n",
       "         1.00000000e+01,   2.15443469e+01,   4.64158883e+01,\n",
       "         1.00000000e+02,   2.15443469e+02,   4.64158883e+02,\n",
       "         1.00000000e+03])"
      ]
     },
     "execution_count": 49,
     "metadata": {},
     "output_type": "execute_result"
    }
   ],
   "source": [
    "xgrid"
   ]
  },
  {
   "cell_type": "code",
   "execution_count": 50,
   "metadata": {
    "collapsed": false
   },
   "outputs": [
    {
     "data": {
      "text/plain": [
       "[(0.1, 0.21544346900318834),\n",
       " (0.21544346900318834, 0.46415888336127786),\n",
       " (0.46415888336127786, 1.0),\n",
       " (1.0, 2.1544346900318834),\n",
       " (2.1544346900318834, 4.6415888336127775),\n",
       " (4.6415888336127775, 10.0),\n",
       " (10.0, 21.54434690031882),\n",
       " (21.54434690031882, 46.41588833612777),\n",
       " (46.41588833612777, 100.0),\n",
       " (100.0, 215.44346900318823),\n",
       " (215.44346900318823, 464.15888336127773),\n",
       " (464.15888336127773, 1000.0)]"
      ]
     },
     "execution_count": 50,
     "metadata": {},
     "output_type": "execute_result"
    }
   ],
   "source": [
    "xbins"
   ]
  },
  {
   "cell_type": "code",
   "execution_count": 119,
   "metadata": {
    "collapsed": false
   },
   "outputs": [],
   "source": [
    "from itertools import product\n",
    "\n",
    "# we want ones and zeros for found/not found.\n",
    "df['found'] = list(map(int, df['foundinj']))\n",
    "df['SNR'] = df['depth_inj']/df['rms_biased']\n",
    "\n",
    "# for half-log bins:\n",
    "#xgrid = np.logspace(-1,3,9)\n",
    "#ygrid = np.logspace(-1,2,7)\n",
    "\n",
    "xgrid = np.logspace(-1,3,13)\n",
    "ygrid = np.logspace(-1,2,10)\n",
    "xbins = [(float(xgrid[i]), float(xgrid[i+1])) for i in range(len(xgrid)-1)]\n",
    "ybins = [(float(ygrid[i]), float(ygrid[i+1])) for i in range(len(ygrid)-1)]\n",
    "\n",
    "P = np.array(df['P_inj'])\n",
    "SNR = np.array(df['SNR'])\n",
    "found = np.array(df['found'])\n",
    "\n",
    "results = []\n",
    "for (Pmin, Pmax), (SNRmin, SNRmax) in product(xbins, ybins):\n",
    "        # get inj/recov expts in this bin\n",
    "        sel = (P > Pmin) & (P < Pmax)\n",
    "        sel &= (SNR > SNRmin) & (SNR < SNRmax)\n",
    "        \n",
    "        thisP, thisSNR, thisfound = P[sel], SNR[sel], found[sel]\n",
    "        \n",
    "        thisDenom = len(found[sel])\n",
    "        thisNum = len(thisfound[thisfound==1])\n",
    "        \n",
    "        if thisDenom > 0:\n",
    "            thisFrac = thisNum/thisDenom\n",
    "        else:\n",
    "            thisFrac = 0.\n",
    "            \n",
    "        results.append(thisFrac)\n",
    "\n",
    "results = np.reshape(results, (len(xbins),len(ybins)))"
   ]
  },
  {
   "cell_type": "code",
   "execution_count": 126,
   "metadata": {
    "collapsed": false
   },
   "outputs": [
    {
     "name": "stderr",
     "output_type": "stream",
     "text": [
      "/home/luke/Dropbox/miniconda3/envs/sci/lib/python3.5/site-packages/matplotlib/figure.py:397: UserWarning: matplotlib is currently using a non-GUI backend, so cannot show the figure\n",
      "  \"matplotlib is currently using a non-GUI backend, \"\n"
     ]
    },
    {
     "data": {
      "image/png": "[encoded data removed]",
      "text/plain": [
       "<matplotlib.figure.Figure at 0x7f5164a9a898>"
      ]
     },
     "metadata": {},
     "output_type": "display_data"
    }
   ],
   "source": [
    "from matplotlib.colors import LogNorm\n",
    "from matplotlib.ticker import LogFormatterMathtext\n",
    "\n",
    "plt.close('all')\n",
    "f, ax = plt.subplots()\n",
    "im = ax.pcolor(xgrid, ygrid, results.T, cmap='Blues')\n",
    "#plt.axvline(100, color='red')\n",
    "\n",
    "ax.set_xscale('log')\n",
    "ax.set_yscale('log')\n",
    "ax.set_ylabel('$\\delta/\\mathrm{RMS}\\ (\\mathrm{per\\ transit})$')\n",
    "ax.set_xlabel('$P_\\mathrm{CBP}$')\n",
    "\n",
    "cb = f.colorbar(im, orientation='vertical')\n",
    "cb.set_label('% of injections recovered')\n",
    "f.savefig('plots/completeness_demo.pdf')\n",
    "f.show()"
   ]
  },
  {
   "cell_type": "code",
   "execution_count": null,
   "metadata": {
    "collapsed": true
   },
   "outputs": [],
   "source": [
    "cb.se"
   ]
  },
  {
   "cell_type": "code",
   "execution_count": 111,
   "metadata": {
    "collapsed": false
   },
   "outputs": [
    {
     "data": {
      "text/plain": [
       "0.10740740740740741"
      ]
     },
     "execution_count": 111,
     "metadata": {},
     "output_type": "execute_result"
    }
   ],
   "source": [
    "np.max(results)"
   ]
  },
  {
   "cell_type": "code",
   "execution_count": 112,
   "metadata": {
    "collapsed": false
   },
   "outputs": [
    {
     "data": {
      "text/plain": [
       "array([  1.00000000e-01,   3.16227766e-01,   1.00000000e+00,\n",
       "         3.16227766e+00,   1.00000000e+01,   3.16227766e+01,\n",
       "         1.00000000e+02,   3.16227766e+02,   1.00000000e+03])"
      ]
     },
     "execution_count": 112,
     "metadata": {},
     "output_type": "execute_result"
    }
   ],
   "source": [
    "xgrid"
   ]
  },
  {
   "cell_type": "code",
   "execution_count": 113,
   "metadata": {
    "collapsed": false
   },
   "outputs": [
    {
     "data": {
      "text/plain": [
       "array([   0.1       ,    0.31622777,    1.        ,    3.16227766,\n",
       "         10.        ,   31.6227766 ,  100.        ])"
      ]
     },
     "execution_count": 113,
     "metadata": {},
     "output_type": "execute_result"
    }
   ],
   "source": [
    "ygrid"
   ]
  },
  {
   "cell_type": "code",
   "execution_count": null,
   "metadata": {
    "collapsed": true
   },
   "outputs": [],
   "source": []
  },
  {
   "cell_type": "code",
   "execution_count": 84,
   "metadata": {
    "collapsed": false
   },
   "outputs": [
    {
     "data": {
      "image/png": "[encoded data removed]",
      "text/plain": [
       "<matplotlib.figure.Figure at 0x7f5164b48668>"
      ]
     },
     "metadata": {},
     "output_type": "display_data"
    }
   ],
   "source": [
    "from matplotlib.colors import LogNorm\n",
    "from matplotlib.ticker import LogFormatterMathtext\n",
    "\n",
    "x=np.logspace(1, 3, 6)\n",
    "y=np.logspace(0, 2,3)\n",
    "X,Y=np.meshgrid(x,y)\n",
    "z = np.logspace(np.log10(10), np.log10(1000), 5)\n",
    "Z=np.vstack((z,z))\n",
    "\n",
    "im = plt.pcolor(X,Y,Z, cmap='gray', norm=LogNorm())\n",
    "plt.axvline(100, color='red')\n",
    "\n",
    "plt.xscale('log')\n",
    "plt.yscale('log')\n",
    "\n",
    "plt.colorbar(im, orientation='horizontal',format=LogFormatterMathtext())\n",
    "plt.show()"
   ]
  },
  {
   "cell_type": "code",
   "execution_count": 85,
   "metadata": {
    "collapsed": false
   },
   "outputs": [
    {
     "data": {
      "text/plain": [
       "(3, 6)"
      ]
     },
     "execution_count": 85,
     "metadata": {},
     "output_type": "execute_result"
    }
   ],
   "source": [
    "np.shape(X)"
   ]
  },
  {
   "cell_type": "code",
   "execution_count": 86,
   "metadata": {
    "collapsed": false
   },
   "outputs": [
    {
     "data": {
      "text/plain": [
       "(3, 6)"
      ]
     },
     "execution_count": 86,
     "metadata": {},
     "output_type": "execute_result"
    }
   ],
   "source": [
    "np.shape(Y)"
   ]
  },
  {
   "cell_type": "code",
   "execution_count": 87,
   "metadata": {
    "collapsed": false
   },
   "outputs": [
    {
     "data": {
      "text/plain": [
       "(2, 5)"
      ]
     },
     "execution_count": 87,
     "metadata": {},
     "output_type": "execute_result"
    }
   ],
   "source": [
    "np.shape(Z)"
   ]
  },
  {
   "cell_type": "code",
   "execution_count": 83,
   "metadata": {
    "collapsed": false
   },
   "outputs": [
    {
     "name": "stderr",
     "output_type": "stream",
     "text": [
      "/home/luke/Dropbox/miniconda3/envs/sci/lib/python3.5/site-packages/matplotlib/figure.py:397: UserWarning: matplotlib is currently using a non-GUI backend, so cannot show the figure\n",
      "  \"matplotlib is currently using a non-GUI backend, \"\n",
      "/home/luke/Dropbox/miniconda3/envs/sci/lib/python3.5/site-packages/matplotlib/image.py:375: UserWarning: Images are not supported on non-linear axes.\n",
      "  warnings.warn(\"Images are not supported on non-linear axes.\")\n"
     ]
    },
    {
     "data": {
      "image/png": "[encoded data removed]",
      "text/plain": [
       "<matplotlib.figure.Figure at 0x7f51648a2ef0>"
      ]
     },
     "metadata": {},
     "output_type": "display_data"
    }
   ],
   "source": [
    "extent = [xgrid[0], xgrid[-1], ygrid[0], ygrid[-1]]\n",
    " \n",
    "# Plot heatmap\n",
    "plt.close('all')\n",
    "f, ax = plt.subplots()\n",
    "\n",
    "ax.imshow(heatmap,\n",
    "          extent=extent,\n",
    "          interpolation='none',\n",
    "          cmap='viridis')\n",
    "\n",
    "ax.set(xscale='log', yscale='log')\n",
    "ax.set_ylabel('SNR per tra')\n",
    "ax.set_xlabel('P_CBP [days]')\n",
    "\n",
    "f.show()"
   ]
  },
  {
   "cell_type": "code",
   "execution_count": null,
   "metadata": {
    "collapsed": true
   },
   "outputs": [],
   "source": []
  },
  {
   "cell_type": "code",
   "execution_count": 62,
   "metadata": {
    "collapsed": false
   },
   "outputs": [
    {
     "data": {
      "image/png": "[encoded data removed]",
      "text/plain": [
       "<matplotlib.figure.Figure at 0x7f5164d95518>"
      ]
     },
     "metadata": {},
     "output_type": "display_data"
    }
   ],
   "source": [
    "import numpy as np\n",
    "import numpy.random\n",
    "import matplotlib.pyplot as plt\n",
    " \n",
    "# Create data\n",
    "x = np.random.randn(4096)\n",
    "y = np.random.randn(4096)\n",
    " \n",
    "# Create heatmap\n",
    "heatmap, xedges, yedges = np.histogram2d(x, y, bins=(4,4))\n",
    "extent = [xedges[0], xedges[-1], yedges[0], yedges[-1]]\n",
    " \n",
    "# Plot heatmap\n",
    "plt.clf()\n",
    "plt.ylabel('y')\n",
    "plt.xlabel('x')\n",
    "plt.imshow(heatmap, extent=extent, interpolation='none', cmap='viridis')\n",
    "plt.show()"
   ]
  },
  {
   "cell_type": "code",
   "execution_count": 63,
   "metadata": {
    "collapsed": false
   },
   "outputs": [
    {
     "data": {
      "text/plain": [
       "array([-3.51501192, -1.715148  ,  0.08471592,  1.88457984,  3.68444376])"
      ]
     },
     "execution_count": 63,
     "metadata": {},
     "output_type": "execute_result"
    }
   ],
   "source": [
    "xedges"
   ]
  },
  {
   "cell_type": "code",
   "execution_count": 72,
   "metadata": {
    "collapsed": false
   },
   "outputs": [
    {
     "data": {
      "text/plain": [
       "5"
      ]
     },
     "execution_count": 72,
     "metadata": {},
     "output_type": "execute_result"
    }
   ],
   "source": [
    "len(xedges)"
   ]
  },
  {
   "cell_type": "code",
   "execution_count": 64,
   "metadata": {
    "collapsed": false
   },
   "outputs": [
    {
     "data": {
      "text/plain": [
       "(4, 4)"
      ]
     },
     "execution_count": 64,
     "metadata": {},
     "output_type": "execute_result"
    }
   ],
   "source": [
    "np.shape(heatmap)"
   ]
  },
  {
   "cell_type": "code",
   "execution_count": 46,
   "metadata": {
    "collapsed": false
   },
   "outputs": [
    {
     "data": {
      "text/plain": [
       "[(0.10000000000000001, 0.10000000000000001),\n",
       " (0.10000000000000001, 0.21544346900318834),\n",
       " (0.10000000000000001, 0.46415888336127786),\n",
       " (0.10000000000000001, 1.0),\n",
       " (0.10000000000000001, 2.1544346900318834)]"
      ]
     },
     "execution_count": 46,
     "metadata": {},
     "output_type": "execute_result"
    }
   ],
   "source": [
    "list(product(xbins, ybins))[:5]"
   ]
  },
  {
   "cell_type": "code",
   "execution_count": 47,
   "metadata": {
    "collapsed": false
   },
   "outputs": [
    {
     "data": {
      "text/plain": [
       "130"
      ]
     },
     "execution_count": 47,
     "metadata": {},
     "output_type": "execute_result"
    }
   ],
   "source": [
    "len(list(product(xbins, ybins)))"
   ]
  },
  {
   "cell_type": "code",
   "execution_count": null,
   "metadata": {
    "collapsed": true
   },
   "outputs": [],
   "source": [
    "product"
   ]
  },
  {
   "cell_type": "markdown",
   "metadata": {},
   "source": [
    "## see ~line 37 of DFM's `occurrence.py`"
   ]
  },
  {
   "cell_type": "code",
   "execution_count": 8,
   "metadata": {
    "collapsed": false
   },
   "outputs": [
    {
     "data": {
      "image/png": "[encoded data removed]",
      "text/plain": [
       "<matplotlib.figure.Figure at 0x7f5164b9d5f8>"
      ]
     },
     "metadata": {},
     "output_type": "display_data"
    }
   ],
   "source": [
    "f, ax = plt.subplots()\n",
    "\n",
    "ax.hist2d(np.log10(df['P_inj']), np.log10(df['depth_inj']/df['rms_biased']))\n",
    "#ax.set(xscale='log',yscale='log')\n",
    "plt.show()"
   ]
  },
  {
   "cell_type": "code",
   "execution_count": null,
   "metadata": {
    "collapsed": true
   },
   "outputs": [],
   "source": []
  }
 ],
 "metadata": {
  "anaconda-cloud": {},
  "kernelspec": {
   "display_name": "Python [conda env:sci]",
   "language": "python",
   "name": "conda-env-sci-py"
  },
  "language_info": {
   "codemirror_mode": {
    "name": "ipython",
    "version": 3
   },
   "file_extension": ".py",
   "mimetype": "text/x-python",
   "name": "python",
   "nbconvert_exporter": "python",
   "pygments_lexer": "ipython3",
   "version": "3.5.2"
  }
 },
 "nbformat": 4,
 "nbformat_minor": 1
}
